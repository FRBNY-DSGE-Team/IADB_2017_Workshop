{
 "cells": [
  {
   "cell_type": "markdown",
   "metadata": {
    "slideshow": {
     "slide_type": "slide"
    }
   },
   "source": [
    "# Types and Multiple Dispatch\n",
    "\n",
    "Pearl Li\n",
    "\n",
    "December 18, 2017"
   ]
  },
  {
   "cell_type": "markdown",
   "metadata": {
    "slideshow": {
     "slide_type": "slide"
    }
   },
   "source": [
    "## Outline\n",
    "\n",
    "1. Types\n",
    "2. Why Use Types?\n",
    "3. Multiple Dispatch\n",
    "4. Writing Julian Code"
   ]
  },
  {
   "cell_type": "markdown",
   "metadata": {
    "slideshow": {
     "slide_type": "slide"
    }
   },
   "source": [
    "## Types"
   ]
  },
  {
   "cell_type": "markdown",
   "metadata": {
    "slideshow": {
     "slide_type": "slide"
    }
   },
   "source": [
    "A **data type** is a classification identifying the kind of data you have. An object’s type determines the possible values it can take on, which operations and functions can be applied to it, and how the computer stores it.\n",
    "\n",
    "Examples:\n",
    "\n",
    "- Numeric types: `Int64`, `Float64`\n",
    "- String types: `String`, `SubString`\n",
    "- `Bool`\n",
    "- `Array`\n",
    "\n",
    "Names of types are written in UpperCamelCase."
   ]
  },
  {
   "cell_type": "markdown",
   "metadata": {
    "slideshow": {
     "slide_type": "slide"
    }
   },
   "source": [
    "A **concrete instance** (also an object or a value) of a type `T` is a piece of data in memory that has type `T`.\n",
    "\n",
    "Variables are not data, but are simply names that point/refer to a specific piece of data. The underlying data that a variable refers to has a specific type."
   ]
  },
  {
   "cell_type": "code",
   "execution_count": 1,
   "metadata": {
    "slideshow": {
     "slide_type": "slide"
    }
   },
   "outputs": [
    {
     "data": {
      "text/plain": [
       "Int64"
      ]
     },
     "execution_count": 1,
     "metadata": {},
     "output_type": "execute_result"
    }
   ],
   "source": [
    "# What is the type of 10?\n",
    "typeof(10)"
   ]
  },
  {
   "cell_type": "code",
   "execution_count": 2,
   "metadata": {},
   "outputs": [
    {
     "data": {
      "text/plain": [
       "true"
      ]
     },
     "execution_count": 2,
     "metadata": {},
     "output_type": "execute_result"
    }
   ],
   "source": [
    "# Is 10 an Int64?\n",
    "isa(10, Int64)"
   ]
  },
  {
   "cell_type": "code",
   "execution_count": 3,
   "metadata": {},
   "outputs": [
    {
     "data": {
      "text/plain": [
       "Float64"
      ]
     },
     "execution_count": 3,
     "metadata": {},
     "output_type": "execute_result"
    }
   ],
   "source": [
    "# What is the type of the elements of an array?\n",
    "X = [1.0, 2.0, 3.0]\n",
    "eltype(X)"
   ]
  },
  {
   "cell_type": "markdown",
   "metadata": {
    "slideshow": {
     "slide_type": "slide"
    }
   },
   "source": [
    "### Composite Types\n",
    "\n",
    "A **composite type** is a collection of named fields that can be treated as a single value. They bear a passing resemblance to MATLAB structs.\n",
    "\n",
    "All fields must be declared ahead of time. The double colon, `::`, constrains a field to contain values of a certain type. This is optional for any field.\n",
    "\n",
    "**Mutable** composite types are defined using the keywords `mutable struct`."
   ]
  },
  {
   "cell_type": "code",
   "execution_count": 4,
   "metadata": {},
   "outputs": [],
   "source": [
    "# Type definition\n",
    "mutable struct Parameter\n",
    "    value::Float64\n",
    "    transformation::Function # Function is a type!\n",
    "    tex_label::String\n",
    "    description::String\n",
    "end"
   ]
  },
  {
   "cell_type": "markdown",
   "metadata": {
    "slideshow": {
     "slide_type": "slide"
    }
   },
   "source": [
    "When a type with $n$ fields is defined, a constructor (function that creates an instance of that type) that takes $n$ ordered arguments is automatically created."
   ]
  },
  {
   "cell_type": "code",
   "execution_count": 5,
   "metadata": {},
   "outputs": [
    {
     "data": {
      "text/plain": [
       "Parameter(0.9, identity, \"\\beta\", \"Discount rate\")"
      ]
     },
     "execution_count": 5,
     "metadata": {},
     "output_type": "execute_result"
    }
   ],
   "source": [
    "# Creating an instance of the Parameter type using the default\n",
    "# constructor\n",
    "β = Parameter(0.9, identity, \"\\beta\", \"Discount rate\")"
   ]
  },
  {
   "cell_type": "markdown",
   "metadata": {
    "slideshow": {
     "slide_type": "slide"
    }
   },
   "source": [
    "Additional constructors can be defined for convenience."
   ]
  },
  {
   "cell_type": "code",
   "execution_count": 6,
   "metadata": {},
   "outputs": [
    {
     "data": {
      "text/plain": [
       "Parameter(0.5, identity, \"\\alpha\", \"No description available\")"
      ]
     },
     "execution_count": 6,
     "metadata": {},
     "output_type": "execute_result"
    }
   ],
   "source": [
    "# Alternative constructors end with an appeal to the default\n",
    "# constructor\n",
    "function Parameter(value::Float64, tex_label::String)\n",
    "    transformation = identity\n",
    "    description = \"No description available\"\n",
    "    return Parameter(value, transformation, tex_label, description)\n",
    "end\n",
    "\n",
    "α = Parameter(0.5, \"\\alpha\")"
   ]
  },
  {
   "cell_type": "code",
   "execution_count": 10,
   "metadata": {
    "slideshow": {
     "slide_type": "slide"
    }
   },
   "outputs": [
    {
     "data": {
      "text/plain": [
       "4-element Array{Symbol,1}:\n",
       " :value         \n",
       " :transformation\n",
       " :tex_label     \n",
       " :description   "
      ]
     },
     "execution_count": 10,
     "metadata": {},
     "output_type": "execute_result"
    }
   ],
   "source": [
    "# Find the fields of an instance of a composite type\n",
    "fieldnames(α)"
   ]
  },
  {
   "cell_type": "code",
   "execution_count": 11,
   "metadata": {},
   "outputs": [
    {
     "data": {
      "text/plain": [
       "0.5"
      ]
     },
     "execution_count": 11,
     "metadata": {},
     "output_type": "execute_result"
    }
   ],
   "source": [
    "# Access a particular field using .\n",
    "α.value"
   ]
  },
  {
   "cell_type": "code",
   "execution_count": 12,
   "metadata": {},
   "outputs": [
    {
     "data": {
      "text/plain": [
       "0.75"
      ]
     },
     "execution_count": 12,
     "metadata": {},
     "output_type": "execute_result"
    }
   ],
   "source": [
    "# Fields in a mutable composite type are modifiable and can be assigned to, like \n",
    "# ordinary variables\n",
    "α.value = 0.75"
   ]
  },
  {
   "cell_type": "markdown",
   "metadata": {
    "slideshow": {
     "slide_type": "slide"
    }
   },
   "source": [
    "### Subtyping\n",
    "\n",
    "Types are hierarchically related to each other. All are subtypes of the `Any` type.\n",
    "\n",
    "There are two main kinds of types in Julia:\n",
    "\n",
    "1. Concrete types: familiar types that you can create instances of, like `Int64` or `Float64`.\n",
    "2. Abstract types: nodes in a type graph that serve to group similar kinds of objects. Abstract types cannot be instantiated and do not have explicitly declared fields. For example, `Integer` or `Number`."
   ]
  },
  {
   "cell_type": "code",
   "execution_count": 5,
   "metadata": {
    "slideshow": {
     "slide_type": "slide"
    }
   },
   "outputs": [],
   "source": [
    "# Define an abstract type\n",
    "abstract type Model end"
   ]
  },
  {
   "cell_type": "code",
   "execution_count": 10,
   "metadata": {},
   "outputs": [],
   "source": [
    "# Define concrete subtypes of that abstract type\n",
    "mutable struct VAR <: Model\n",
    "    n_lags::Int64\n",
    "    variables::Vector{Symbol} # Ny x 1\n",
    "    data::Matrix{Float64}     # Ny x Nt\n",
    "end"
   ]
  },
  {
   "cell_type": "code",
   "execution_count": 15,
   "metadata": {
    "slideshow": {
     "slide_type": "-"
    }
   },
   "outputs": [
    {
     "data": {
      "text/plain": [
       "true"
      ]
     },
     "execution_count": 15,
     "metadata": {},
     "output_type": "execute_result"
    }
   ],
   "source": [
    "# Check subtyping relation\n",
    "VAR <: Model"
   ]
  },
  {
   "cell_type": "code",
   "execution_count": 16,
   "metadata": {
    "slideshow": {
     "slide_type": "slide"
    }
   },
   "outputs": [
    {
     "data": {
      "text/plain": [
       "VAR(4, Symbol[:gdp, :inflation], [3.2 3.5 2.9 3.0; 1.5 1.2 1.4 1.9])"
      ]
     },
     "execution_count": 16,
     "metadata": {},
     "output_type": "execute_result"
    }
   ],
   "source": [
    "# Instantiate a VAR\n",
    "data = [3.2 3.5 2.9 3.0; # GDP series\n",
    "        1.5 1.2 1.4 1.9] # inflation series\n",
    "model = VAR(4, [:gdp, :inflation], data)"
   ]
  },
  {
   "cell_type": "code",
   "execution_count": 17,
   "metadata": {},
   "outputs": [
    {
     "data": {
      "text/plain": [
       "true"
      ]
     },
     "execution_count": 17,
     "metadata": {},
     "output_type": "execute_result"
    }
   ],
   "source": [
    "# Instances of the VAR type are also instances of the Model type\n",
    "isa(model, Model)"
   ]
  },
  {
   "cell_type": "code",
   "execution_count": 18,
   "metadata": {},
   "outputs": [
    {
     "ename": "LoadError",
     "evalue": "\u001b[91mTypeError: issubtype: expected Type, got Int64\u001b[39m",
     "output_type": "error",
     "traceback": [
      "\u001b[91mTypeError: issubtype: expected Type, got Int64\u001b[39m",
      "",
      "Stacktrace:",
      " [1] \u001b[1minclude_string\u001b[22m\u001b[22m\u001b[1m(\u001b[22m\u001b[22m::String, ::String\u001b[1m)\u001b[22m\u001b[22m at \u001b[1m./loading.jl:522\u001b[22m\u001b[22m"
     ]
    }
   ],
   "source": [
    "# Why does this throw an error?\n",
    "3 <: Number"
   ]
  },
  {
   "cell_type": "markdown",
   "metadata": {
    "slideshow": {
     "slide_type": "slide"
    }
   },
   "source": [
    "### Parameterized Types\n",
    "\n",
    "**Parameterized types** are data types that are defined to handle values identically regardless of the type of those values.\n",
    "\n",
    "Arrays are a familiar example. An `Array{T,1}` is a one-dimensional array filled with objects of any type `T` (e.g. `Float64`, `String`)."
   ]
  },
  {
   "cell_type": "code",
   "execution_count": 25,
   "metadata": {},
   "outputs": [],
   "source": [
    "# Defining a parametric point\n",
    "struct Duple{T} # T is a parameter to the type Duple\n",
    "    x::T\n",
    "    y::T\n",
    "end"
   ]
  },
  {
   "cell_type": "markdown",
   "metadata": {
    "slideshow": {
     "slide_type": "slide"
    }
   },
   "source": [
    "This single declaration defines an unlimited number of new types: `Duple{String}`, `Duple{Float64}`, etc. are all immediately usable."
   ]
  },
  {
   "cell_type": "code",
   "execution_count": 20,
   "metadata": {},
   "outputs": [
    {
     "data": {
      "text/plain": [
       "Duple{Int64}(3, -15)"
      ]
     },
     "execution_count": 20,
     "metadata": {},
     "output_type": "execute_result"
    }
   ],
   "source": [
    "Duple(3, -15)"
   ]
  },
  {
   "cell_type": "code",
   "execution_count": 21,
   "metadata": {},
   "outputs": [
    {
     "data": {
      "text/plain": [
       "Duple{String}(\"Broadway\", \"42nd St\")"
      ]
     },
     "execution_count": 21,
     "metadata": {},
     "output_type": "execute_result"
    }
   ],
   "source": [
    "Duple(\"Broadway\", \"42nd St\")"
   ]
  },
  {
   "cell_type": "code",
   "execution_count": 22,
   "metadata": {},
   "outputs": [
    {
     "ename": "LoadError",
     "evalue": "\u001b[91mMethodError: no method matching Duple(::Float64, ::Int64)\u001b[0m\nClosest candidates are:\n  Duple(::T, \u001b[91m::T\u001b[39m) where T at In[19]:3\u001b[39m",
     "output_type": "error",
     "traceback": [
      "\u001b[91mMethodError: no method matching Duple(::Float64, ::Int64)\u001b[0m\nClosest candidates are:\n  Duple(::T, \u001b[91m::T\u001b[39m) where T at In[19]:3\u001b[39m",
      "",
      "Stacktrace:",
      " [1] \u001b[1minclude_string\u001b[22m\u001b[22m\u001b[1m(\u001b[22m\u001b[22m::String, ::String\u001b[1m)\u001b[22m\u001b[22m at \u001b[1m./loading.jl:522\u001b[22m\u001b[22m"
     ]
    }
   ],
   "source": [
    "# What happens here?\n",
    "Duple(1.5, 3)"
   ]
  },
  {
   "cell_type": "markdown",
   "metadata": {
    "slideshow": {
     "slide_type": "slide"
    }
   },
   "source": [
    "Notice that we defined `Duple` without the `mutable` keyword. We can still access the fields of `Duple` instances as before, but now attempts to modify the fields will cause an error to be thrown."
   ]
  },
  {
   "cell_type": "code",
   "execution_count": 27,
   "metadata": {},
   "outputs": [
    {
     "data": {
      "text/plain": [
       "3"
      ]
     },
     "execution_count": 27,
     "metadata": {},
     "output_type": "execute_result"
    }
   ],
   "source": [
    "pt = Duple(3, -15)\n",
    "pt.x"
   ]
  },
  {
   "cell_type": "code",
   "execution_count": 28,
   "metadata": {},
   "outputs": [
    {
     "ename": "LoadError",
     "evalue": "\u001b[91mtype Duple is immutable\u001b[39m",
     "output_type": "error",
     "traceback": [
      "\u001b[91mtype Duple is immutable\u001b[39m",
      "",
      "Stacktrace:",
      " [1] \u001b[1minclude_string\u001b[22m\u001b[22m\u001b[1m(\u001b[22m\u001b[22m::String, ::String\u001b[1m)\u001b[22m\u001b[22m at \u001b[1m./loading.jl:522\u001b[22m\u001b[22m"
     ]
    }
   ],
   "source": [
    "pt.x = 0"
   ]
  },
  {
   "cell_type": "markdown",
   "metadata": {
    "slideshow": {
     "slide_type": "slide"
    }
   },
   "source": [
    "Each particular parameterization of a parametric type is a type, and moreover a subtype of the parametric type."
   ]
  },
  {
   "cell_type": "code",
   "execution_count": 29,
   "metadata": {},
   "outputs": [
    {
     "data": {
      "text/plain": [
       "DataType"
      ]
     },
     "execution_count": 29,
     "metadata": {},
     "output_type": "execute_result"
    }
   ],
   "source": [
    "typeof(Duple{Int})"
   ]
  },
  {
   "cell_type": "code",
   "execution_count": 30,
   "metadata": {},
   "outputs": [
    {
     "data": {
      "text/plain": [
       "true"
      ]
     },
     "execution_count": 30,
     "metadata": {},
     "output_type": "execute_result"
    }
   ],
   "source": [
    "Duple{Int} <: Duple"
   ]
  },
  {
   "cell_type": "markdown",
   "metadata": {
    "slideshow": {
     "slide_type": "slide"
    }
   },
   "source": [
    "We can also restrict the type parameter `T`:"
   ]
  },
  {
   "cell_type": "code",
   "execution_count": 31,
   "metadata": {},
   "outputs": [],
   "source": [
    "# T can be any subtype of Number, but nothing else\n",
    "type PlanarCoordinate{T<:Number}\n",
    "    x::T\n",
    "    y::T\n",
    "end"
   ]
  },
  {
   "cell_type": "code",
   "execution_count": 32,
   "metadata": {},
   "outputs": [
    {
     "ename": "LoadError",
     "evalue": "\u001b[91mMethodError: no method matching PlanarCoordinate(::String, ::String)\u001b[39m",
     "output_type": "error",
     "traceback": [
      "\u001b[91mMethodError: no method matching PlanarCoordinate(::String, ::String)\u001b[39m",
      "",
      "Stacktrace:",
      " [1] \u001b[1minclude_string\u001b[22m\u001b[22m\u001b[1m(\u001b[22m\u001b[22m::String, ::String\u001b[1m)\u001b[22m\u001b[22m at \u001b[1m./loading.jl:522\u001b[22m\u001b[22m"
     ]
    }
   ],
   "source": [
    "PlanarCoordinate(\"4th Ave\", \"14th St\")"
   ]
  },
  {
   "cell_type": "markdown",
   "metadata": {
    "slideshow": {
     "slide_type": "slide"
    }
   },
   "source": [
    "### Type Aliases\n",
    "\n",
    "**Type aliases** can be used to simplify references to existing types using regular assignment. For example, `Vector{T}` and `Matrix{T}` are type aliases for `Array{T, 1}` and `Array{T, 2}` respectively:"
   ]
  },
  {
   "cell_type": "code",
   "execution_count": 33,
   "metadata": {},
   "outputs": [
    {
     "name": "stderr",
     "output_type": "stream",
     "text": [
      "WARNING: imported binding for Vector overwritten in module Main\n",
      "WARNING: imported binding for Matrix overwritten in module Main\n"
     ]
    },
    {
     "data": {
      "text/plain": [
       "Array{T,2} where T"
      ]
     },
     "execution_count": 33,
     "metadata": {},
     "output_type": "execute_result"
    }
   ],
   "source": [
    "Vector{T} = Array{T, 1}\n",
    "Matrix{T} = Array{T, 2}"
   ]
  },
  {
   "cell_type": "code",
   "execution_count": 34,
   "metadata": {
    "slideshow": {
     "slide_type": "slide"
    }
   },
   "outputs": [
    {
     "data": {
      "text/plain": [
       "true"
      ]
     },
     "execution_count": 34,
     "metadata": {},
     "output_type": "execute_result"
    }
   ],
   "source": [
    "x = [1, 2, 3]\n",
    "isa(x, Array{Int, 1})"
   ]
  },
  {
   "cell_type": "code",
   "execution_count": 35,
   "metadata": {},
   "outputs": [
    {
     "data": {
      "text/plain": [
       "true"
      ]
     },
     "execution_count": 35,
     "metadata": {},
     "output_type": "execute_result"
    }
   ],
   "source": [
    "isa(x, Vector{Int})"
   ]
  },
  {
   "cell_type": "code",
   "execution_count": 36,
   "metadata": {},
   "outputs": [
    {
     "data": {
      "text/plain": [
       "true"
      ]
     },
     "execution_count": 36,
     "metadata": {},
     "output_type": "execute_result"
    }
   ],
   "source": [
    "Vector{Int} == Array{Int, 1}"
   ]
  },
  {
   "cell_type": "markdown",
   "metadata": {
    "slideshow": {
     "slide_type": "slide"
    }
   },
   "source": [
    "## Exercise"
   ]
  },
  {
   "cell_type": "code",
   "execution_count": 1,
   "metadata": {
    "slideshow": {
     "slide_type": "slide"
    }
   },
   "outputs": [],
   "source": [
    "using Distributions"
   ]
  },
  {
   "cell_type": "markdown",
   "metadata": {},
   "source": [
    "The [Distributions](https://juliastats.github.io/Distributions.jl/latest/index.html) package implements sampling, moments, PDFs, and more for many distributions. `Distribution` is an abstract parameterized type, and `ContinuousUnivariateDistribution` and `ContinuousMultivariateDistribution` are two specific (aliases for) abstract subtypes of `Distribution`.\n",
    "\n",
    "```\n",
    "abstract Distribution{F<:VariateForm,S<:ValueSupport}\n",
    "const ContinuousUnivariateDistribution =\n",
    "    Distribution{Univariate, Continuous}\n",
    "const ContinuousMultivariateDistribution =\n",
    "    Distribution{Multivariate, Continuous}\n",
    "```"
   ]
  },
  {
   "cell_type": "markdown",
   "metadata": {
    "slideshow": {
     "slide_type": "slide"
    }
   },
   "source": [
    "Implement the [triangular distribution](https://en.wikipedia.org/wiki/Triangular_distribution) (\"a continuous probability distribution with lower limit $a$, upper limit $b$ and mode $c$, where $a < b$ and $a \\leq c \\leq b$\") as an immutable composite type `MyTriangular`, which is a subtype of `ContinuousUnivariateDistribution`."
   ]
  },
  {
   "cell_type": "code",
   "execution_count": 2,
   "metadata": {},
   "outputs": [],
   "source": [
    "struct MyTriangular <: ContinuousUnivariateDistribution\n",
    "    a::Real # lower limit\n",
    "    b::Real # upper limit\n",
    "    c::Real # mode\n",
    "\n",
    "    # This \"inner constructor\" enforces type invariants\n",
    "    function MyTriangular(a, b, c)\n",
    "        @assert a < b\n",
    "        @assert a <= c <= b\n",
    "        return new(a, b, c)\n",
    "    end\n",
    "end"
   ]
  },
  {
   "cell_type": "markdown",
   "metadata": {
    "slideshow": {
     "slide_type": "slide"
    }
   },
   "source": [
    "In addition to the default constructor, implement a second `Triangular` constructor which only takes in the lower and upper limits as arguments, setting the mode to $\\frac{a+b}{2}$."
   ]
  },
  {
   "cell_type": "code",
   "execution_count": 3,
   "metadata": {},
   "outputs": [
    {
     "data": {
      "text/plain": [
       "MyTriangular"
      ]
     },
     "execution_count": 3,
     "metadata": {},
     "output_type": "execute_result"
    }
   ],
   "source": [
    "function MyTriangular(a, b)\n",
    "    c = (a+b)/2\n",
    "    return MyTriangular(a, b, c)\n",
    "end"
   ]
  },
  {
   "cell_type": "markdown",
   "metadata": {
    "slideshow": {
     "slide_type": "slide"
    }
   },
   "source": [
    "## Why Use Types?"
   ]
  },
  {
   "cell_type": "markdown",
   "metadata": {
    "slideshow": {
     "slide_type": "slide"
    }
   },
   "source": [
    "You can write all your code without thinking about types at all. If you do this, however, you’ll be missing out on some of the biggest benefits of using Julia.\n",
    "\n",
    "If you understand types, you can:\n",
    "\n",
    "- Write faster code\n",
    "- Write expressive, clear, and well-structured programs (keep this in mind when we talk about functions)\n",
    "- Reason more clearly about how your code works"
   ]
  },
  {
   "cell_type": "markdown",
   "metadata": {
    "slideshow": {
     "slide_type": "slide"
    }
   },
   "source": [
    "From the QuantEcon lecture on [Types, Methods, and Dispatch](https://lectures.quantecon.org/jl/types_methods.html#motivation):\n",
    "\n",
    "> At our respective homes we both have drawers full of fishing gear. Of course we have drawers full of other things too, like kitchen utensils, or clothes. Are these drawers really necessary? Perhaps not, but who wants to search the whole house for their fishing reel when the fish are biting? Certainly not us. Just as it’s convenient to store household objects in drawers, **it’s also convenient to organize the objects in your program into designated “containers”**."
   ]
  },
  {
   "cell_type": "markdown",
   "metadata": {
    "slideshow": {
     "slide_type": "slide"
    }
   },
   "source": [
    "Even if you only use built-in functions and types, your code still takes advantage of Julia’s type system. That’s why it’s important to understand what types are and how to use them."
   ]
  },
  {
   "cell_type": "code",
   "execution_count": 29,
   "metadata": {
    "slideshow": {
     "slide_type": "slide"
    }
   },
   "outputs": [
    {
     "data": {
      "text/plain": [
       "-25554.110202663698"
      ]
     },
     "execution_count": 29,
     "metadata": {},
     "output_type": "execute_result"
    }
   ],
   "source": [
    "# Example: writing type-stable functions\n",
    "function sumofsins_unstable(n::Int)  \n",
    "    sum = 0\n",
    "    for i in 1:n\n",
    "        sum += sin(3.4)\n",
    "    end\n",
    "    return sum\n",
    "end  \n",
    "\n",
    "function sumofsins_stable(n::Int)  \n",
    "    sum = 0.0\n",
    "    for i in 1:n\n",
    "        sum += sin(3.4)\n",
    "    end\n",
    "    return sum\n",
    "end\n",
    "\n",
    "# Compile and run\n",
    "sumofsins_unstable(1e5)\n",
    "sumofsins_stable(1e5)"
   ]
  },
  {
   "cell_type": "code",
   "execution_count": 30,
   "metadata": {
    "slideshow": {
     "slide_type": "slide"
    }
   },
   "outputs": [
    {
     "name": "stdout",
     "output_type": "stream",
     "text": [
      "  0.014902 seconds (300.00 k allocations: 4.578 MiB, 62.10% gc time)\n"
     ]
    },
    {
     "data": {
      "text/plain": [
       "-25554.110202663698"
      ]
     },
     "execution_count": 30,
     "metadata": {},
     "output_type": "execute_result"
    }
   ],
   "source": [
    "@time sumofsins_unstable(1e5)"
   ]
  },
  {
   "cell_type": "code",
   "execution_count": 31,
   "metadata": {},
   "outputs": [
    {
     "name": "stdout",
     "output_type": "stream",
     "text": [
      "  0.002460 seconds (5 allocations: 176 bytes)\n"
     ]
    },
    {
     "data": {
      "text/plain": [
       "-25554.110202663698"
      ]
     },
     "execution_count": 31,
     "metadata": {},
     "output_type": "execute_result"
    }
   ],
   "source": [
    "@time sumofsins_stable(1e5)"
   ]
  },
  {
   "cell_type": "markdown",
   "metadata": {},
   "source": [
    "In `sumofsins_stable`, the compiler is guaranteed that `sum` is of type `Float64` throughout; therefore, it saves time and memory. On the other hand, in `sumofsins_unstable`, the compiler must check the type of `sum` at each iteration of the loop. Let's look at the LLVM [intermediate representation](http://www.johnmyleswhite.com/notebook/2013/12/06/writing-type-stable-code-in-julia/)."
   ]
  },
  {
   "cell_type": "markdown",
   "metadata": {
    "slideshow": {
     "slide_type": "slide"
    }
   },
   "source": [
    "### Exercise\n",
    "\n",
    "(Taken from QuantEcon's [Vectors, Arrays, and Matrices](https://lectures.quantecon.org/jl/julia_arrays.html) lecture.)"
   ]
  },
  {
   "cell_type": "markdown",
   "metadata": {
    "slideshow": {
     "slide_type": "slide"
    }
   },
   "source": [
    "Write a function `solve_discrete_lyapunov` that solves the discrete Lyapunov equation $$S = ASA' + \\Sigma \\Sigma'$$ using the iterative procedure $$S_0 = \\Sigma \\Sigma'$$ $$S_{t+1} = A S_t A' + \\Sigma \\Sigma'$$ taking in as arguments the $n \\times n$ matrix $A$, the $n \\times k$ matrix $\\Sigma$, and a number of iterations. \n",
    "You can assume that your $A$ and $\\Sigma$ matrices are of type `Matrix{Float64}` and the number of iterations is an `Integer`. Make sure to check your code for type stability!\n",
    "\n",
    "Solution: https://lectures.quantecon.org/jl/julia_arrays.html#solutions (Note that in the solutions, the function is called `compute_asymptotic_var`.)"
   ]
  },
  {
   "cell_type": "code",
   "execution_count": null,
   "metadata": {
    "slideshow": {
     "slide_type": "slide"
    }
   },
   "outputs": [],
   "source": [
    "function solve_discrete_lyapunov(...)\n",
    "    ...\n",
    "end"
   ]
  },
  {
   "cell_type": "markdown",
   "metadata": {
    "slideshow": {
     "slide_type": "slide"
    }
   },
   "source": [
    "## Multiple Dispatch"
   ]
  },
  {
   "cell_type": "markdown",
   "metadata": {
    "slideshow": {
     "slide_type": "slide"
    }
   },
   "source": [
    "So far we have defined functions over argument lists of any type. Methods allow us to define functions “piecewise”. For any set of input arguments, we can define a **method**, a definition of one possible behavior for a function."
   ]
  },
  {
   "cell_type": "code",
   "execution_count": 32,
   "metadata": {
    "slideshow": {
     "slide_type": "slide"
    }
   },
   "outputs": [
    {
     "data": {
      "text/plain": [
       "print_type (generic function with 1 method)"
      ]
     },
     "execution_count": 32,
     "metadata": {},
     "output_type": "execute_result"
    }
   ],
   "source": [
    "# Define one method of the function print_type\n",
    "function print_type(x::Number)\n",
    "    println(\"$x is a number\")\n",
    "end"
   ]
  },
  {
   "cell_type": "code",
   "execution_count": 33,
   "metadata": {},
   "outputs": [
    {
     "data": {
      "text/plain": [
       "print_type (generic function with 2 methods)"
      ]
     },
     "execution_count": 33,
     "metadata": {},
     "output_type": "execute_result"
    }
   ],
   "source": [
    "# Define another method\n",
    "function print_type(x::String)\n",
    "    println(\"$x is a string\")\n",
    "end"
   ]
  },
  {
   "cell_type": "code",
   "execution_count": 34,
   "metadata": {},
   "outputs": [
    {
     "data": {
      "text/plain": [
       "print_type (generic function with 3 methods)"
      ]
     },
     "execution_count": 34,
     "metadata": {},
     "output_type": "execute_result"
    }
   ],
   "source": [
    "# Define yet another method\n",
    "function print_type(x::Number, y::Number)\n",
    "    println(\"$x and $y are both numbers\")\n",
    "end"
   ]
  },
  {
   "cell_type": "code",
   "execution_count": 35,
   "metadata": {
    "scrolled": true,
    "slideshow": {
     "slide_type": "slide"
    }
   },
   "outputs": [
    {
     "data": {
      "text/html": [
       "3 methods for generic function <b>print_type</b>:<ul><li> print_type(x::<b>String</b>) at In[33]:3</li> <li> print_type(x::<b>Number</b>) at In[32]:3</li> <li> print_type(x::<b>Number</b>, y::<b>Number</b>) at In[34]:3</li> </ul>"
      ],
      "text/plain": [
       "# 3 methods for generic function \"print_type\":\n",
       "print_type(x::String) in Main at In[33]:3\n",
       "print_type(x::Number) in Main at In[32]:3\n",
       "print_type(x::Number, y::Number) in Main at In[34]:3"
      ]
     },
     "execution_count": 35,
     "metadata": {},
     "output_type": "execute_result"
    }
   ],
   "source": [
    "# See all methods for a given function\n",
    "methods(print_type)"
   ]
  },
  {
   "cell_type": "markdown",
   "metadata": {
    "slideshow": {
     "slide_type": "slide"
    }
   },
   "source": [
    "Julia uses **multiple dispatch** to decide which method of a function to execute when a function is applied. In particular, Julia compares the types of _all_ arguments to the signatures of the function’s methods in order to choose the applicable one, not just the first (hence \"multiple\")."
   ]
  },
  {
   "cell_type": "code",
   "execution_count": 36,
   "metadata": {},
   "outputs": [
    {
     "name": "stdout",
     "output_type": "stream",
     "text": [
      "5 is a number\n"
     ]
    }
   ],
   "source": [
    "print_type(5)"
   ]
  },
  {
   "cell_type": "code",
   "execution_count": 37,
   "metadata": {},
   "outputs": [
    {
     "name": "stdout",
     "output_type": "stream",
     "text": [
      "foo is a string\n"
     ]
    }
   ],
   "source": [
    "print_type(\"foo\")"
   ]
  },
  {
   "cell_type": "code",
   "execution_count": 38,
   "metadata": {},
   "outputs": [
    {
     "ename": "LoadError",
     "evalue": "\u001b[91mMethodError: no method matching print_type(::Array{Int64,1})\u001b[0m\nClosest candidates are:\n  print_type(\u001b[91m::String\u001b[39m) at In[33]:3\n  print_type(\u001b[91m::Number\u001b[39m) at In[32]:3\n  print_type(\u001b[91m::Number\u001b[39m, \u001b[91m::Number\u001b[39m) at In[34]:3\u001b[39m",
     "output_type": "error",
     "traceback": [
      "\u001b[91mMethodError: no method matching print_type(::Array{Int64,1})\u001b[0m\nClosest candidates are:\n  print_type(\u001b[91m::String\u001b[39m) at In[33]:3\n  print_type(\u001b[91m::Number\u001b[39m) at In[32]:3\n  print_type(\u001b[91m::Number\u001b[39m, \u001b[91m::Number\u001b[39m) at In[34]:3\u001b[39m",
      "",
      "Stacktrace:",
      " [1] \u001b[1minclude_string\u001b[22m\u001b[22m\u001b[1m(\u001b[22m\u001b[22m::String, ::String\u001b[1m)\u001b[22m\u001b[22m at \u001b[1m./loading.jl:522\u001b[22m\u001b[22m"
     ]
    }
   ],
   "source": [
    "# This throws an error because no method of print_type has been\n",
    "# defined for this set of arguments\n",
    "print_type([1, 2, 3])"
   ]
  },
  {
   "cell_type": "markdown",
   "metadata": {
    "slideshow": {
     "slide_type": "slide"
    }
   },
   "source": [
    "How is multiple dispatch useful for economic research? Recall that we defined the type `VAR` earlier, and made it a subtype of our abstract type `Model`. Let's define another subtype of `Model`:"
   ]
  },
  {
   "cell_type": "code",
   "execution_count": 6,
   "metadata": {},
   "outputs": [],
   "source": [
    "# Define a linear regression model\n",
    "type LinearRegression <: Model\n",
    "    y_var::Symbol\n",
    "    x_vars::Vector{Symbol}\n",
    "    y_data::Vector{Float64} # N x 1\n",
    "    x_data::Matrix{Float64} # N x Nx\n",
    "end"
   ]
  },
  {
   "cell_type": "markdown",
   "metadata": {
    "slideshow": {
     "slide_type": "slide"
    }
   },
   "source": [
    "Now we can use the same function name, `estimate_params`, to define different estimation behaviors for the different subtypes of `Model`:"
   ]
  },
  {
   "cell_type": "code",
   "execution_count": 11,
   "metadata": {},
   "outputs": [
    {
     "data": {
      "text/plain": [
       "estimate_params (generic function with 3 methods)"
      ]
     },
     "execution_count": 11,
     "metadata": {},
     "output_type": "execute_result"
    }
   ],
   "source": [
    "function estimate_params(model::LinearRegression)\n",
    "    # Estimate a linear regression using OLS\n",
    "end\n",
    "\n",
    "function estimate_params(model::VAR)\n",
    "    # Estimate a VAR using maximum likelihood\n",
    "end\n",
    "\n",
    "function estimate_params(model::VAR, prior::Distribution)\n",
    "    # Estimate a Bayesian VAR\n",
    "end"
   ]
  },
  {
   "cell_type": "code",
   "execution_count": 12,
   "metadata": {},
   "outputs": [
    {
     "data": {
      "text/html": [
       "3 methods for generic function <b>estimate_params</b>:<ul><li> estimate_params(model::<b>VAR</b>) at In[11]:7</li> <li> estimate_params(model::<b>LinearRegression</b>) at In[11]:3</li> <li> estimate_params(model::<b>VAR</b>, prior::<b>Distributions.Distribution</b>) at In[11]:11</li> </ul>"
      ],
      "text/plain": [
       "# 3 methods for generic function \"estimate_params\":\n",
       "estimate_params(model::VAR) in Main at In[11]:7\n",
       "estimate_params(model::LinearRegression) in Main at In[11]:3\n",
       "estimate_params(model::VAR, prior::Distributions.Distribution) in Main at In[11]:11"
      ]
     },
     "execution_count": 12,
     "metadata": {},
     "output_type": "execute_result"
    }
   ],
   "source": [
    "methods(estimate_params)"
   ]
  },
  {
   "cell_type": "markdown",
   "metadata": {
    "slideshow": {
     "slide_type": "slide"
    }
   },
   "source": [
    "### Exercise"
   ]
  },
  {
   "cell_type": "markdown",
   "metadata": {
    "slideshow": {
     "slide_type": "slide"
    }
   },
   "source": [
    "Implement the function `estimate(model::LinearRegression)` using the given `LinearRegression` type. That is, return a $N_x \\times 1$ vector of coefficients estimated using OLS. You may find the `inv` and `transpose` functions helpful. (As in MATLAB, you can also transpose matrices using `'`.)"
   ]
  },
  {
   "cell_type": "code",
   "execution_count": 14,
   "metadata": {},
   "outputs": [
    {
     "data": {
      "text/plain": [
       "estimate_params (generic function with 3 methods)"
      ]
     },
     "execution_count": 14,
     "metadata": {},
     "output_type": "execute_result"
    }
   ],
   "source": [
    "function estimate_params(model::LinearRegression)\n",
    "    X, Y = model.x_data, model.y_data\n",
    "    β_hat = inv(X'*X) * (X'*Y)\n",
    "    return vec(β_hat)\n",
    "end"
   ]
  },
  {
   "cell_type": "markdown",
   "metadata": {
    "slideshow": {
     "slide_type": "slide"
    }
   },
   "source": [
    "Test it on the following model:"
   ]
  },
  {
   "cell_type": "code",
   "execution_count": 16,
   "metadata": {},
   "outputs": [
    {
     "data": {
      "text/plain": [
       "2-element Array{Float64,1}:\n",
       " 0.885933\n",
       " 1.00956 "
      ]
     },
     "execution_count": 16,
     "metadata": {},
     "output_type": "execute_result"
    }
   ],
   "source": [
    "# Define dimensions\n",
    "Nx = 2\n",
    "N  = 1000\n",
    "\n",
    "# Generate data\n",
    "β = ones(Nx, 1)\n",
    "X = rand(N, Nx)\n",
    "ϵ = randn(N)\n",
    "Y = X*β + ϵ\n",
    "\n",
    "# Initialize and estimate model\n",
    "model = LinearRegression(:y, [:x1, :x2], vec(Y), X)\n",
    "β_hat = estimate_params(model)"
   ]
  },
  {
   "cell_type": "markdown",
   "metadata": {
    "slideshow": {
     "slide_type": "slide"
    }
   },
   "source": [
    "### Another Exercise"
   ]
  },
  {
   "cell_type": "markdown",
   "metadata": {
    "slideshow": {
     "slide_type": "slide"
    }
   },
   "source": [
    "Recall the `Triangular` type we defined earlier:"
   ]
  },
  {
   "cell_type": "code",
   "execution_count": 20,
   "metadata": {},
   "outputs": [],
   "source": [
    "struct Triangular <: ContinuousUnivariateDistribution\n",
    "    a::Real # lower limit\n",
    "    b::Real # upper limit\n",
    "    c::Real # mode\n",
    "\n",
    "    # This \"inner constructor\" enforces type invariants\n",
    "    function Triangular(a, b, c)\n",
    "        @assert a < b\n",
    "        @assert a <= c <= b\n",
    "        return new(a, b, c)\n",
    "    end\n",
    "end"
   ]
  },
  {
   "cell_type": "markdown",
   "metadata": {
    "slideshow": {
     "slide_type": "slide"
    }
   },
   "source": [
    "We can also add additional methods to functions defined in outside packages. For example, we can extend `Distributions.cdf` to handle our `Triangular` type. Implement the triangular distribution CDF:\n",
    "\n",
    "$$\n",
    "f(x) = \\begin{cases}\n",
    "       0,                              &     x \\leq a \\\\\n",
    "       \\frac{(x-a)^2}{(b-a)(c-a)},     & a < x \\leq c \\\\\n",
    "       1 - \\frac{(b-x)^2}{(b-a)(b-c)}, & c < x <    b \\\\\n",
    "       1,                              & \\mathrm{otherwise}\n",
    "       \\end{cases}\n",
    "$$"
   ]
  },
  {
   "cell_type": "code",
   "execution_count": 22,
   "metadata": {
    "slideshow": {
     "slide_type": "-"
    }
   },
   "outputs": [],
   "source": [
    "function Distributions.cdf(d::Triangular, x::Real)\n",
    "    # Simplify notation\n",
    "    a, b, c = d.a, d.b, d.c\n",
    "    \n",
    "    if x <= a\n",
    "        return 0\n",
    "    elseif a < x <= c\n",
    "        return (x-a)^2 / ((b-a)*(c-a))\n",
    "    elseif c < x < b\n",
    "        return 1 - (b-x)^2 / ((b-a)*(b-c))\n",
    "    else\n",
    "        return 1\n",
    "    end\n",
    "end"
   ]
  },
  {
   "cell_type": "markdown",
   "metadata": {
    "slideshow": {
     "slide_type": "slide"
    }
   },
   "source": [
    "Test your method below:"
   ]
  },
  {
   "cell_type": "code",
   "execution_count": 23,
   "metadata": {},
   "outputs": [],
   "source": [
    "d = Triangular(0, 1, 0.5)\n",
    "@assert cdf(d, 0)   == 0\n",
    "@assert cdf(d, 0.5) == 0.5\n",
    "@assert cdf(d, 1)   == 1"
   ]
  },
  {
   "cell_type": "markdown",
   "metadata": {
    "slideshow": {
     "slide_type": "slide"
    }
   },
   "source": [
    "## Writing Julian Code"
   ]
  },
  {
   "cell_type": "markdown",
   "metadata": {
    "slideshow": {
     "slide_type": "slide"
    }
   },
   "source": [
    "How is Julia so fast? Julia is just-in-time (JIT) compiled, which  means (according to [this StackExchange answer](http://stackoverflow.com/questions/95635/what-does-a-just-in-time-jit-compiler-do)):\n",
    "\n",
    "> A JIT compiler runs after the program has started and compiles the code (usually bytecode or some kind of VM instructions) on the fly (or just-in-time, as it's called) into a form that's usually faster, typically the host CPU's native instruction set. **A JIT has access to dynamic runtime information whereas a standard compiler doesn't and can make better optimizations like inlining functions that are used frequently.**\n",
    "\n",
    "> This is in contrast to a traditional compiler that compiles all the code to machine language before the program is first run."
   ]
  },
  {
   "cell_type": "markdown",
   "metadata": {
    "slideshow": {
     "slide_type": "slide"
    }
   },
   "source": [
    "In particular, Julia uses type information at runtime to optimize how your code is compiled. This is why writing type-stable code makes such a difference in speed!"
   ]
  },
  {
   "cell_type": "markdown",
   "metadata": {
    "slideshow": {
     "slide_type": "slide"
    }
   },
   "source": [
    "As we've seen, you can use Julia just like you use MATLAB and get faster code. However, to write faster and _better_ code, attempt to write in a “Julian” manner:\n",
    "\n",
    "- Define composite types as logically needed\n",
    "- Write type-stable functions for best performance\n",
    "- Take advantage of multiple dispatch to write code that looks like math\n",
    "- Add methods to existing functions"
   ]
  }
 ],
 "metadata": {
  "celltoolbar": "Slideshow",
  "kernelspec": {
   "display_name": "Julia 0.6.1",
   "language": "julia",
   "name": "julia-0.6"
  },
  "language_info": {
   "file_extension": ".jl",
   "mimetype": "application/julia",
   "name": "julia",
   "version": "0.6.1"
  }
 },
 "nbformat": 4,
 "nbformat_minor": 1
}
