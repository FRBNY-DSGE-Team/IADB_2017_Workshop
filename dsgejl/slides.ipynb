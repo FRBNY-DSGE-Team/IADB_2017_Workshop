{
 "cells": [
  {
   "cell_type": "markdown",
   "metadata": {
    "nbpresent": {
     "id": "9f5565ef-7cd0-4521-a7a4-d2c9eda58112"
    },
    "slideshow": {
     "slide_type": "slide"
    }
   },
   "source": [
    "# Introduction to DSGE.jl\n",
    "\n",
    "Pearl Li\n",
    "\n",
    "December 19, 2017"
   ]
  },
  {
   "cell_type": "markdown",
   "metadata": {
    "nbpresent": {
     "id": "3d5cc66a-9cbe-4c34-a654-32981d650ea3"
    },
    "slideshow": {
     "slide_type": "slide"
    }
   },
   "source": [
    "## Outline\n",
    "\n",
    "1. Notation\n",
    "2. Solving, estimating, and forecasting an existing model\n",
    "3. Model implementation\n",
    "4. Exercise: MA(1) model\n",
    "6. Conclusion"
   ]
  },
  {
   "cell_type": "code",
   "execution_count": 1,
   "metadata": {
    "slideshow": {
     "slide_type": "slide"
    }
   },
   "outputs": [],
   "source": [
    "# Run this block immediately because DSGE and the packages it depends on will take a while \n",
    "# to compile\n",
    "using DSGE"
   ]
  },
  {
   "cell_type": "markdown",
   "metadata": {
    "nbpresent": {
     "id": "70968b4e-4c80-4304-9efa-be289b744dee"
    },
    "slideshow": {
     "slide_type": "slide"
    }
   },
   "source": [
    "## Notation"
   ]
  },
  {
   "cell_type": "markdown",
   "metadata": {
    "nbpresent": {
     "id": "ef3f58a3-4127-4d7c-8c95-99dbfb058737"
    },
    "slideshow": {
     "slide_type": "slide"
    }
   },
   "source": [
    "- $y_t$ is a vector of observables at time $t$\n",
    "- $s_t$ is a vector of states, including expectations of future states and lags\n",
    "- $\\epsilon_t$ is a vector of exogenous shocks\n",
    "- $\\eta_t$ is a vector of rational expectations errors\n",
    "- $u_t$ is a vector of measurement error\n",
    "- $\\theta$ is a vector of parameters"
   ]
  },
  {
   "cell_type": "markdown",
   "metadata": {
    "nbpresent": {
     "id": "a507d41c-0c6a-4a50-886a-3a9ecf2cdc1d"
    },
    "slideshow": {
     "slide_type": "slide"
    }
   },
   "source": [
    "Equilibrium conditions\n",
    "\n",
    "$$\\Gamma_0(\\theta) s_t = \\Gamma_1(\\theta) s_{t-1} + \\Psi(\\theta) \\epsilon_t + \\Pi(\\theta) \\eta_t + C(\\theta)$$\n",
    "\n",
    "which are solved to give the state-space representation\n",
    "\n",
    "$$\n",
    "\\begin{align*}\n",
    "s_t &= T(\\theta) s_{t-1} + R(\\theta) \\epsilon_t + C(\\theta) & \\epsilon_t \\sim N(0, Q(\\theta)) \\\\\n",
    "y_t &= Z(\\theta) s_t + D(\\theta) + u_t & u_t \\sim N(0, E(\\theta))\n",
    "\\end{align*}\n",
    "$$"
   ]
  },
  {
   "cell_type": "markdown",
   "metadata": {
    "collapsed": true,
    "nbpresent": {
     "id": "9a8dcd28-44cd-4be0-a42b-2e27cc688fd1"
    },
    "slideshow": {
     "slide_type": "slide"
    }
   },
   "source": [
    "## Using Existing Models"
   ]
  },
  {
   "cell_type": "markdown",
   "metadata": {
    "nbpresent": {
     "id": "447fd38e-3cc5-4d9a-8b30-f0fd51ca47e5"
    },
    "slideshow": {
     "slide_type": "slide"
    }
   },
   "source": [
    "Let's construct an instance of the following (log-linearized) three-equation New Keynesian model:\n",
    "\n",
    "$$\n",
    "\\begin{align*}\n",
    "y_t - g_t &= -\\frac{1}{\\tau} R_t + \\frac{1}{1 + \\tau} \\mathbb{E} \\pi_{t+1} + \\mathbb{E}(y_{t+1} - g_{t+1}) + \\frac{1}{\\tau} \\mathbb{E} z_{t+1} \\\\\n",
    "\\pi_t &= \\beta \\mathbb{E} \\pi_{t+1} + \\kappa (y_t - g_t) \\\\\n",
    "R_t &= \\rho_R R_{t-1} + (1 - \\rho_R) [\\psi_1 \\pi_t + \\psi_2 (y_t - g_t)] + \\epsilon_{R,t}\n",
    "\\end{align*}\n",
    "$$"
   ]
  },
  {
   "cell_type": "markdown",
   "metadata": {
    "nbpresent": {
     "id": "112b87a7-5855-4601-8b20-e7bac95a5e55"
    },
    "slideshow": {
     "slide_type": "slide"
    }
   },
   "source": [
    "where\n",
    "\n",
    "$$\n",
    "\\begin{align*}\n",
    "s_t &= [y_t, \\pi_t, R_t, y_{t-1}, g_t, z_t, \\mathbb{E} y_{t+1}, \\mathbb{E} \\pi_{t+1}]' \\\\\n",
    "y_t &= [\\text{Real per-capita GDP growth}_t, \\text{CPI inflation}_t, \\text{Nominal FFR}_t]'\n",
    "\\end{align*}\n",
    "$$\n",
    "\n",
    "are the state and observable vectors respectively."
   ]
  },
  {
   "cell_type": "code",
   "execution_count": 2,
   "metadata": {
    "nbpresent": {
     "id": "f7ff2ae0-8510-4ff8-bad2-e56759a681d9"
    },
    "slideshow": {
     "slide_type": "slide"
    }
   },
   "outputs": [],
   "source": [
    "# Construct model object\n",
    "m = AnSchorfheide()\n",
    "\n",
    "# Set data vintage and initial forecast date\n",
    "m <= Setting(:data_vintage, \"170528\")\n",
    "m <= Setting(:date_forecast_start, DSGE.quartertodate(\"2017-Q2\"))\n",
    "\n",
    "# Set input and output directories\n",
    "m <= Setting(:dataroot, joinpath(pwd(), \"input_data\"))\n",
    "m <= Setting(:saveroot, pwd())\n",
    "\n",
    "# Don't use population forecast\n",
    "m <= Setting(:use_population_forecast, false)"
   ]
  },
  {
   "cell_type": "code",
   "execution_count": null,
   "metadata": {
    "nbpresent": {
     "id": "84a715c1-f5a8-43f7-9fb8-639074ca1e3e"
    },
    "slideshow": {
     "slide_type": "slide"
    }
   },
   "outputs": [],
   "source": [
    "m"
   ]
  },
  {
   "cell_type": "code",
   "execution_count": 3,
   "metadata": {
    "nbpresent": {
     "id": "ede680d7-0978-4963-872c-0b28b9c8b28f"
    },
    "slideshow": {
     "slide_type": "slide"
    }
   },
   "outputs": [
    {
     "name": "stdout",
     "output_type": "stream",
     "text": [
      "Loaded previous mode from /Users/rcepxl10/Drive/frbny/travel/iadb-workshop/IADB_2017_Workshop/dsgejl/output_data/an_schorfheide/ss0/estimate/raw/paramsmode_vint=170528.h5.\n"
     ]
    }
   ],
   "source": [
    "# Read in a previously computed vector of modal parameters\n",
    "mode_file = rawpath(m, \"estimate\", \"paramsmode.h5\")\n",
    "specify_mode!(m, mode_file)"
   ]
  },
  {
   "cell_type": "code",
   "execution_count": null,
   "metadata": {
    "slideshow": {
     "slide_type": "slide"
    }
   },
   "outputs": [],
   "source": [
    "# Solve the rational expectations model to get transition equation \n",
    "# matrices\n",
    "TTT, RRR, CCC = solve(m)"
   ]
  },
  {
   "cell_type": "markdown",
   "metadata": {
    "nbpresent": {
     "id": "64b700c2-2430-40fd-9d3d-79957f03ff00"
    },
    "slideshow": {
     "slide_type": "slide"
    }
   },
   "source": [
    "Estimate and forecast the model (don't run this code block!):"
   ]
  },
  {
   "cell_type": "code",
   "execution_count": null,
   "metadata": {
    "nbpresent": {
     "id": "88ca4b52-a672-460e-a46f-646fec0f2455"
    },
    "slideshow": {
     "slide_type": "-"
    }
   },
   "outputs": [],
   "source": [
    "# Find a posterior mode, sample from the posterior distribution\n",
    "estimate(m)\n",
    "\n",
    "# Add parallel workers\n",
    "my_procs = addprocs(50)\n",
    "\n",
    "# Forecast using the full distribution of parameters\n",
    "output_vars = [:forecaststates, :forecastobs]\n",
    "forecast_one(m, :full, :none, output_vars)\n",
    "compute_meansbands(m, :full, :none, output_vars)\n",
    "\n",
    "# Remove parallel workers\n",
    "rmprocs(my_procs)"
   ]
  },
  {
   "cell_type": "markdown",
   "metadata": {
    "nbpresent": {
     "id": "ef0bee98-4417-4d65-b61d-2b9a9c4db3c6"
    },
    "slideshow": {
     "slide_type": "slide"
    }
   },
   "source": [
    "Since in practice estimating and forecasting the full distribution is time-consuming, we'll forecast only at the mode using the mode we read in:"
   ]
  },
  {
   "cell_type": "code",
   "execution_count": 4,
   "metadata": {
    "nbpresent": {
     "id": "a245e3b8-5d31-4bcb-9a74-35cf7f133931"
    }
   },
   "outputs": [
    {
     "name": "stdout",
     "output_type": "stream",
     "text": [
      "Reading dataset /Users/rcepxl10/Drive/frbny/travel/iadb-workshop/IADB_2017_Workshop/dsgejl/input_data/data/data_dsid=00_vint=170528.csv from disk...dataset from disk valid\n"
     ]
    }
   ],
   "source": [
    "# Load data\n",
    "df = load_data(m)\n",
    "\n",
    "# Forecast using modal parameters\n",
    "output_vars = [:histobs, :forecaststates, :forecastobs]\n",
    "forecast_one(m, :mode, :none, output_vars, df = df, verbose = :none)\n",
    "compute_meansbands(m, :mode, :none, output_vars, verbose = :none)"
   ]
  },
  {
   "cell_type": "code",
   "execution_count": null,
   "metadata": {
    "nbpresent": {
     "id": "af377c21-fd1a-4162-8adc-0fa0b9977488"
    },
    "slideshow": {
     "slide_type": "slide"
    }
   },
   "outputs": [],
   "source": [
    "# Read in forecasted observables\n",
    "mb = read_mb(m, :mode, :none, :forecastobs)"
   ]
  },
  {
   "cell_type": "code",
   "execution_count": null,
   "metadata": {
    "nbpresent": {
     "id": "a288f08a-1409-45c4-897c-f9612e078445"
    }
   },
   "outputs": [],
   "source": [
    "# Show first four forecasted quarters\n",
    "mb.means[1:4, :]"
   ]
  },
  {
   "cell_type": "code",
   "execution_count": 19,
   "metadata": {
    "nbpresent": {
     "id": "3591edd3-2e94-475d-8b23-7d16d95f076f"
    },
    "slideshow": {
     "slide_type": "slide"
    }
   },
   "outputs": [
    {
     "data": {
      "text/html": [
       "<table class=\"data-frame\"><thead><tr><th></th><th>y_t</th><th>π_t</th><th>R_t</th></tr></thead><tbody><tr><th>1</th><td>0.8118952136027373</td><td>0.2350315239936614</td><td>-0.2356874614957492</td></tr><tr><th>2</th><td>0.7161825375221876</td><td>0.16661955296739311</td><td>-0.14711159658096123</td></tr><tr><th>3</th><td>0.6486366042580868</td><td>0.12011639949265113</td><td>-0.08787651429325914</td></tr><tr><th>4</th><td>0.600145688870977</td><td>0.08840842601171206</td><td>-0.04841225410162462</td></tr></tbody></table>"
      ],
      "text/plain": [
       "4×3 DataFrames.DataFrame\n",
       "│ Row │ y_t      │ π_t       │ R_t        │\n",
       "├─────┼──────────┼───────────┼────────────┤\n",
       "│ 1   │ 0.811895 │ 0.235032  │ -0.235687  │\n",
       "│ 2   │ 0.716183 │ 0.16662   │ -0.147112  │\n",
       "│ 3   │ 0.648637 │ 0.120116  │ -0.0878765 │\n",
       "│ 4   │ 0.600146 │ 0.0884084 │ -0.0484123 │"
      ]
     },
     "execution_count": 19,
     "metadata": {},
     "output_type": "execute_result"
    }
   ],
   "source": [
    "# Read in forecasted states\n",
    "mb = read_mb(m, :mode, :none, :forecaststates)\n",
    "\n",
    "# Show first forecasted quarters of output, inflation, and interest rate\n",
    "mb.means[1:4, [:y_t, :π_t, :R_t]]"
   ]
  },
  {
   "cell_type": "code",
   "execution_count": 15,
   "metadata": {
    "slideshow": {
     "slide_type": "slide"
    }
   },
   "outputs": [
    {
     "name": "stdout",
     "output_type": "stream",
     "text": [
      "Saved /Users/rcepxl10/Drive/frbny/travel/iadb-workshop/IADB_2017_Workshop/dsgejl/output_data/an_schorfheide/ss0/forecast/figures/forecast_obs_gdp_cond=none_para=mode_vint=170528.html\n"
     ]
    },
    {
     "data": {
      "text/html": [
       "<script src=\"file:///Users/rcepxl10/.julia/v0.6/Plots/src/backends/../../deps/plotly-latest.min.js\"></script>    <div id=\"8b2fb532-ea3c-4030-a6a8-83a51304f9a3\" style=\"width:600px;height:400px;\"></div>\n",
       "    <script>\n",
       "    PLOT = document.getElementById('8b2fb532-ea3c-4030-a6a8-83a51304f9a3');\n",
       "    Plotly.plot(PLOT, [{\"xaxis\":\"x\",\"colorbar\":{\"title\":\"\"},\"yaxis\":\"y\",\"x\":[732766,732857,732949,733041,733132,733223,733315,733407,733497,733588,733680,733772,733862,733953,734045,734137,734227,734318,734410,734502,734593,734684,734776,734868,734958,735049,735141,735233,735323,735414,735506,735598,735688,735779,735871,735963,736054,736145,736237,736329,736419,736510,736602,736694,736784,736875,736967,737059,737149,737240,737332,737424,737515,737606,737698,737790],\"showlegend\":false,\"mode\":\"lines\",\"name\":\"\",\"line\":{\"color\":\"rgba(0, 154, 250, 0.000)\",\"width\":1,\"dash\":\"solid\",\"shape\":\"linear\"},\"y\":[0.27142430531568174,3.0258229794137392,2.7826814935836497,1.5068046315136918,-2.707798305736142,2.1848868468264726,-1.9040383677031314,-8.354150840237972,-5.399326532132919,-0.585591276770292,1.2528963305641572,3.911321344129326,1.8196481401822062,3.843774665246369,2.724093917261472,2.546987375283627,-1.5188820048991025,2.877496331637297,0.9365966192142361,4.606291981891464,2.6625752692220006,1.9347398468871235,0.2765805107376229,0.23196475340678813,2.95435373252535,0.6732342923831514,2.991986132379121,3.9221079530671776,-1.1261716925633158,4.033331323075906,4.927965058882733,2.2882605552427826,2.1348246622504785,2.5889615361887275,1.94023382466173,0.9507803722878405,0.7961359491780229,1.3974705872034754,3.4987176073001613,2.0995781207638453,1.138981168426234,1.0247711232396872,1.1903805429394065,1.3016505781978438,1.3762101906441782,1.4259967775816396,1.4590829911937053,1.4809228731953006,1.4951987720782212,1.5043955297365574,1.5101891256605215,1.5137094447205568,1.515717806086081,1.5167268434668868,1.517081429109135,1.5170132878429499],\"type\":\"scatter\"},{\"xaxis\":\"x\",\"colorbar\":{\"title\":\"\"},\"fill\":\"tonexty\",\"yaxis\":\"y\",\"x\":[732766,732857,732949,733041,733132,733223,733315,733407,733497,733588,733680,733772,733862,733953,734045,734137,734227,734318,734410,734502,734593,734684,734776,734868,734958,735049,735141,735233,735323,735414,735506,735598,735688,735779,735871,735963,736054,736145,736237,736329,736419,736510,736602,736694,736784,736875,736967,737059,737149,737240,737332,737424,737515,737606,737698,737790],\"showlegend\":false,\"mode\":\"lines\",\"fillcolor\":\"rgba(0, 0, 255, 0.100)\",\"name\":\"\",\"line\":{\"color\":\"rgba(0, 154, 250, 0.000)\",\"shape\":\"linear\",\"dash\":\"solid\",\"width\":1},\"y\":[0.27142430531568174,3.0258229794137392,2.7826814935836497,1.5068046315136918,-2.707798305736142,2.1848868468264726,-1.9040383677031314,-8.354150840237972,-5.399326532132919,-0.585591276770292,1.2528963305641572,3.911321344129326,1.8196481401822062,3.843774665246369,2.724093917261472,2.546987375283627,-1.5188820048991025,2.877496331637297,0.9365966192142361,4.606291981891464,2.6625752692220006,1.9347398468871235,0.2765805107376229,0.23196475340678813,2.95435373252535,0.6732342923831514,2.991986132379121,3.9221079530671776,-1.1261716925633158,4.033331323075906,4.927965058882733,2.2882605552427826,2.1348246622504785,2.5889615361887275,1.94023382466173,0.9507803722878405,0.7961359491780229,1.3974705872034754,3.4987176073001613,2.0995781207638453,1.138981168426234,1.0247711232396872,1.1903805429394065,1.3016505781978438,1.3762101906441782,1.4259967775816396,1.4590829911937053,1.4809228731953006,1.4951987720782212,1.5043955297365574,1.5101891256605215,1.5137094447205568,1.515717806086081,1.5167268434668868,1.517081429109135,1.5170132878429499],\"type\":\"scatter\"},{\"showlegend\":true,\"mode\":\"lines\",\"xaxis\":\"x\",\"colorbar\":{\"title\":\"\"},\"line\":{\"color\":\"rgba(0, 0, 0, 1.000)\",\"shape\":\"linear\",\"dash\":\"solid\",\"width\":2},\"y\":[0.27142430531568174,3.0258229794137392,2.7826814935836497,1.5068046315136918,-2.707798305736142,2.1848868468264726,-1.9040383677031314,-8.354150840237972,-5.399326532132919,-0.585591276770292,1.2528963305641572,3.911321344129326,1.8196481401822062,3.843774665246369,2.724093917261472,2.546987375283627,-1.5188820048991025,2.877496331637297,0.9365966192142361,4.606291981891464,2.6625752692220006,1.9347398468871235,0.2765805107376229,0.23196475340678813,2.95435373252535,0.6732342923831514,2.991986132379121,3.9221079530671776,-1.1261716925633158,4.033331323075906,4.927965058882733,2.2882605552427826,2.1348246622504785,2.5889615361887275,1.94023382466173,0.9507803722878405,0.7961359491780229,1.3974705872034754,3.4987176073001613,2.0995781207638453,1.138981168426234],\"type\":\"scatter\",\"name\":\"History\",\"yaxis\":\"y\",\"x\":[732766,732857,732949,733041,733132,733223,733315,733407,733497,733588,733680,733772,733862,733953,734045,734137,734227,734318,734410,734502,734593,734684,734776,734868,734958,735049,735141,735233,735323,735414,735506,735598,735688,735779,735871,735963,736054,736145,736237,736329,736419]},{\"showlegend\":true,\"mode\":\"lines\",\"xaxis\":\"x\",\"colorbar\":{\"title\":\"\"},\"line\":{\"color\":\"rgba(255, 0, 0, 1.000)\",\"shape\":\"linear\",\"dash\":\"solid\",\"width\":2},\"y\":[1.138981168426234,1.0247711232396872,1.1903805429394065,1.3016505781978438,1.3762101906441782,1.4259967775816396,1.4590829911937053,1.4809228731953006,1.4951987720782212,1.5043955297365574,1.5101891256605215,1.5137094447205568,1.515717806086081,1.5167268434668868,1.517081429109135,1.5170132878429499],\"type\":\"scatter\",\"name\":\"Forecast\",\"yaxis\":\"y\",\"x\":[736419,736510,736602,736694,736784,736875,736967,737059,737149,737240,737332,737424,737515,737606,737698,737790]}], {\"showlegend\":true,\"xaxis\":{\"showticklabels\":true,\"gridwidth\":0.5,\"tickvals\":[733132,733862,734593,735323,736054,736784,737515],\"visible\":true,\"ticks\":\"inside\",\"range\":[732766.0,737790.0],\"domain\":[0.09128390201224845,0.9934383202099738],\"tickmode\":\"array\",\"linecolor\":\"rgba(0, 0, 0, 1.000)\",\"showgrid\":true,\"title\":\"\",\"mirror\":false,\"tickangle\":0,\"showline\":true,\"gridcolor\":\"rgba(0, 0, 0, 0.100)\",\"titlefont\":{\"color\":\"rgba(0, 0, 0, 1.000)\",\"family\":\"sans-serif\",\"size\":15},\"tickcolor\":\"rgb(0, 0, 0)\",\"ticktext\":[2008,2010,2012,2014,2016,2018,2020],\"zeroline\":false,\"type\":\"-\",\"tickfont\":{\"color\":\"rgba(0, 0, 0, 1.000)\",\"family\":\"sans-serif\",\"size\":11},\"zerolinecolor\":\"rgba(0, 0, 0, 1.000)\",\"anchor\":\"y\"},\"paper_bgcolor\":\"rgba(255, 255, 255, 1.000)\",\"annotations\":[{\"yanchor\":\"top\",\"xanchor\":\"center\",\"rotation\":-0.0,\"y\":1.0,\"font\":{\"color\":\"rgba(0, 0, 0, 1.000)\",\"family\":\"sans-serif\",\"size\":20},\"yref\":\"paper\",\"showarrow\":false,\"text\":\"Real GDP Growth\",\"xref\":\"paper\",\"x\":0.5423611111111111}],\"height\":400,\"margin\":{\"l\":0,\"b\":20,\"r\":0,\"t\":20},\"plot_bgcolor\":\"rgba(255, 255, 255, 1.000)\",\"yaxis\":{\"showticklabels\":true,\"gridwidth\":0.5,\"tickvals\":[-7.5,-5.0,-2.5,0.0,2.5],\"visible\":true,\"ticks\":\"inside\",\"range\":[-8.354150840237972,4.927965058882733],\"domain\":[0.03762029746281716,0.9415463692038496],\"tickmode\":\"array\",\"linecolor\":\"rgba(0, 0, 0, 1.000)\",\"showgrid\":true,\"title\":\"Percent Q/Q Annualized\",\"mirror\":false,\"tickangle\":0,\"showline\":true,\"gridcolor\":\"rgba(0, 0, 0, 0.100)\",\"titlefont\":{\"color\":\"rgba(0, 0, 0, 1.000)\",\"family\":\"sans-serif\",\"size\":15},\"tickcolor\":\"rgb(0, 0, 0)\",\"ticktext\":[\"-7.5\",\"-5.0\",\"-2.5\",\"0.0\",\"2.5\"],\"zeroline\":false,\"type\":\"-\",\"tickfont\":{\"color\":\"rgba(0, 0, 0, 1.000)\",\"family\":\"sans-serif\",\"size\":11},\"zerolinecolor\":\"rgba(0, 0, 0, 1.000)\",\"anchor\":\"x\"},\"legend\":{\"bordercolor\":\"rgba(0, 0, 0, 1.000)\",\"bgcolor\":\"rgba(255, 255, 255, 1.000)\",\"font\":{\"color\":\"rgba(0, 0, 0, 1.000)\",\"family\":\"sans-serif\",\"size\":11},\"y\":1.0,\"x\":1.0},\"width\":600});\n",
       "    </script>\n"
      ]
     },
     "execution_count": 15,
     "metadata": {},
     "output_type": "execute_result"
    }
   ],
   "source": [
    "# Plot GDP growth history and modal forecast\n",
    "plot_history_and_forecast(m, :obs_gdp, :obs, :mode, :none, \n",
    "    start_date = DSGE.quartertodate(\"2007-Q1\"),\n",
    "    end_date   = DSGE.quartertodate(\"2020-Q4\"))"
   ]
  },
  {
   "cell_type": "markdown",
   "metadata": {
    "nbpresent": {
     "id": "c36485e1-793b-4791-9a05-2414d53bd1a1"
    },
    "slideshow": {
     "slide_type": "slide"
    }
   },
   "source": [
    "## The Model Object"
   ]
  },
  {
   "cell_type": "markdown",
   "metadata": {
    "nbpresent": {
     "id": "e3b562e9-322c-4b33-8bd8-bcba39fbaa86"
    },
    "slideshow": {
     "slide_type": "slide"
    }
   },
   "source": [
    "Subtypes of `AbstractModel` contain the following fields:"
   ]
  },
  {
   "cell_type": "code",
   "execution_count": 16,
   "metadata": {
    "nbpresent": {
     "id": "62fc466c-c050-4b3a-8c6f-457950add74d"
    },
    "slideshow": {
     "slide_type": "-"
    }
   },
   "outputs": [
    {
     "data": {
      "text/plain": [
       "18-element Array{Symbol,1}:\n",
       " :parameters                 \n",
       " :steady_state               \n",
       " :keys                       \n",
       " :endogenous_states          \n",
       " :exogenous_shocks           \n",
       " :expected_shocks            \n",
       " :equilibrium_conditions     \n",
       " :endogenous_states_augmented\n",
       " :observables                \n",
       " :pseudo_observables         \n",
       " :spec                       \n",
       " :subspec                    \n",
       " :settings                   \n",
       " :test_settings              \n",
       " :rng                        \n",
       " :testing                    \n",
       " :observable_mappings        \n",
       " :pseudo_observable_mappings "
      ]
     },
     "execution_count": 16,
     "metadata": {},
     "output_type": "execute_result"
    }
   ],
   "source": [
    "fieldnames(m)"
   ]
  },
  {
   "cell_type": "markdown",
   "metadata": {
    "collapsed": true,
    "nbpresent": {
     "id": "7a293d5c-36a6-4bed-bd85-366cf611379b"
    },
    "slideshow": {
     "slide_type": "slide"
    }
   },
   "source": [
    "These fields include:\n",
    "\n",
    "- Vectors of time-invariant (`parameters`) and steady-state parameters (`steady_state`)\n",
    "- `Dict{Symbol, Int}`s mapping states, shocks, expectational errors, equations, or observables to indices. For example:"
   ]
  },
  {
   "cell_type": "code",
   "execution_count": 17,
   "metadata": {
    "nbpresent": {
     "id": "28089ee9-82a4-4fdf-bbc8-d7c566419be6"
    },
    "slideshow": {
     "slide_type": "slide"
    }
   },
   "outputs": [
    {
     "data": {
      "text/plain": [
       "DataStructures.OrderedDict{Symbol,Int64} with 8 entries:\n",
       "  :y_t   => 1\n",
       "  :π_t   => 2\n",
       "  :R_t   => 3\n",
       "  :y_t1  => 4\n",
       "  :g_t   => 5\n",
       "  :z_t   => 6\n",
       "  :Ey_t1 => 7\n",
       "  :Eπ_t1 => 8"
      ]
     },
     "execution_count": 17,
     "metadata": {},
     "output_type": "execute_result"
    }
   ],
   "source": [
    "m.endogenous_states"
   ]
  },
  {
   "cell_type": "markdown",
   "metadata": {
    "nbpresent": {
     "id": "cda12a81-a64b-465c-b60d-5843b3186c73"
    },
    "slideshow": {
     "slide_type": "-"
    }
   },
   "source": [
    "`m.endogenous_states[:y_t] = 1` indicates that the first element of the state vector\n",
    "\n",
    "$$s_t = [y_t, \\pi_t, R_t, y_{t-1}, g_t, z_t, \\mathbb{E} y_{t+1}, \\mathbb{E} \\pi_{t+1}]$$\n",
    "\n",
    "is $y_t$."
   ]
  },
  {
   "cell_type": "code",
   "execution_count": 18,
   "metadata": {
    "nbpresent": {
     "id": "0c1b8853-8358-4e6d-a51f-a4e6b048f620"
    },
    "slideshow": {
     "slide_type": "slide"
    }
   },
   "outputs": [
    {
     "data": {
      "text/plain": [
       "DataStructures.OrderedDict{Symbol,Int64} with 8 entries:\n",
       "  :eq_euler    => 1\n",
       "  :eq_phillips => 2\n",
       "  :eq_mp       => 3\n",
       "  :eq_y_t1     => 4\n",
       "  :eq_g        => 5\n",
       "  :eq_z        => 6\n",
       "  :eq_Ey       => 7\n",
       "  :eq_Eπ       => 8"
      ]
     },
     "execution_count": 18,
     "metadata": {},
     "output_type": "execute_result"
    }
   ],
   "source": [
    "m.equilibrium_conditions"
   ]
  },
  {
   "cell_type": "markdown",
   "metadata": {
    "nbpresent": {
     "id": "edce2bfa-3e5b-46f2-86de-4b6051229f9c"
    }
   },
   "source": [
    "`m.equilibrium_conditions[:eq_euler] = 1` means the first row of the equilibrium conditions\n",
    "\n",
    "$$\\Gamma_0 s_t = \\Gamma_1 s_{t-1} + \\Psi \\epsilon_t + \\Pi \\eta_t + C$$\n",
    "\n",
    "is the consumption Euler equation."
   ]
  },
  {
   "cell_type": "markdown",
   "metadata": {
    "nbpresent": {
     "id": "21da31ad-5847-42a8-8c59-28bc0b857e5c"
    },
    "slideshow": {
     "slide_type": "slide"
    }
   },
   "source": [
    "Additional fields in the model object:\n",
    "\n",
    "- Strings giving the model specification (`spec`) and subspecification (`subspec`)\n",
    "- `Dict{Symbol, Setting}`s of model settings, both for regular use (`settings`) and testing the package (`test_settings`)"
   ]
  },
  {
   "cell_type": "markdown",
   "metadata": {
    "collapsed": true,
    "slideshow": {
     "slide_type": "slide"
    }
   },
   "source": [
    "## Exercise: MA(1) Model\n",
    "\n",
    "See `exercise.ipynb`"
   ]
  },
  {
   "cell_type": "markdown",
   "metadata": {
    "slideshow": {
     "slide_type": "slide"
    }
   },
   "source": [
    "## Conclusion"
   ]
  },
  {
   "cell_type": "markdown",
   "metadata": {
    "slideshow": {
     "slide_type": "slide"
    }
   },
   "source": [
    "Things learned:\n",
    "\n",
    "- We love open source (and Julia)!\n",
    "  + Open-source languages and packages reduce costs of writing code and make it easier to share\n",
    "  + Julia is high-performance and high-productivity\n",
    "- Challenges to be aware of\n",
    "  + New language, frequent updates: This will slow down when v1.0 comes out (hopefully this year)\n",
    "  + Sparse StackOverflow activity"
   ]
  },
  {
   "cell_type": "markdown",
   "metadata": {
    "slideshow": {
     "slide_type": "slide"
    }
   },
   "source": [
    "Ongoing work:\n",
    "\n",
    "- Forecasting under alternative monetary policy rules\n",
    "- Forecast evaluation and decomposing changes in forecasts\n",
    "- Estimating nonlinear models using the tempered particle filter ([Herbst & Schorfheide 2017](http://www.nber.org/papers/w23448))"
   ]
  },
  {
   "cell_type": "markdown",
   "metadata": {
    "slideshow": {
     "slide_type": "slide"
    }
   },
   "source": [
    "### Thank you!\n",
    "\n",
    "https://github.com/FRBNY-DSGE/DSGE.jl"
   ]
  }
 ],
 "metadata": {
  "anaconda-cloud": {},
  "celltoolbar": "Slideshow",
  "kernelspec": {
   "display_name": "Julia 0.6.1",
   "language": "julia",
   "name": "julia-0.6"
  },
  "language_info": {
   "file_extension": ".jl",
   "mimetype": "application/julia",
   "name": "julia",
   "version": "0.6.1"
  }
 },
 "nbformat": 4,
 "nbformat_minor": 2
}
