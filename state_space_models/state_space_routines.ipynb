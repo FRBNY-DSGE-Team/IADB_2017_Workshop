{
 "cells": [
  {
   "cell_type": "markdown",
   "metadata": {},
   "source": [
    "# State-Space Routines\n",
    "\n",
    "Our package `StateSpaceRoutines.jl` implements some common routines for state-space models.\n",
    "`DSGE.jl` relies on `StateSpaceRoutines.jl`'s filtering and smoothing functions, but the \n",
    "functionality provided is general enough to be used in other settings.\n",
    "\n",
    "The provided algorithms are:\n",
    "\n",
    "- Kalman filter (`kalman_filter`)\n",
    "- Tempered particle filter (`tempered_particle_filter`): [\"Tempered Particle Filtering\"](https://federalreserve.gov/econresdata/feds/2016/files/2016072pap.pdf) (2016)\n",
    "- Kalman smoothers:\n",
    "  + `hamilton_smoother`: James Hamilton, [_Time Series Analysis_](https://www.amazon.com/Time-Analysis-James-Douglas-Hamilton/dp/0691042896) (1994)\n",
    "  + `koopman_smoother`: S.J. Koopman, [\"Disturbance Smoother for State Space Models\"](https://www.jstor.org/stable/2336762) (_Biometrika_, 1993)\n",
    "- Simulation smoothers:\n",
    "  + `carter_kohn_smoother`: C.K. Carter and R. Kohn, [\"On Gibbs Sampling for State Space Models\"](https://www.jstor.org/stable/2337125) (_Biometrika_, 1994)\n",
    "  + `durbin_koopman_smoother`: J. Durbin and S.J. Koopman, [\"A Simple and Efficient Simulation Smoother for State Space Time Series Analysis\"](https://www.jstor.org/stable/4140605) (_Biometrika_, 2002)"
   ]
  },
  {
   "cell_type": "markdown",
   "metadata": {},
   "source": [
    "## Linear Estimation\n",
    "\n",
    "### Linear State Space System\n",
    "\n",
    "We assume a standard linear state space system, in which measumement error and fundamental shocks are \n",
    "independent. \n",
    "\n",
    "```\n",
    "z_{t+1} = CCC + TTT*z_t + RRR*ϵ_t    (transition equation)\n",
    "y_t     = DD  + ZZ*z_t  + η_t        (measurement equation)\n",
    "\n",
    "ϵ_t ∼ N(0, QQ)\n",
    "η_t ∼ N(0, EE)\n",
    "Cov(ϵ_t, η_t) = 0\n",
    "```\n",
    "\n",
    "\n",
    "### Time-Invariant Methods\n",
    "\n",
    "`StateSpaceRoutines.jl`'s linear filtering and smoothing functions handle both the single-regime and multiple-regimes cases. \n",
    "\n",
    "\n",
    "```\n",
    "kalman_filter(data, TTT, RRR, CCC, QQ, ZZ, DD, EE, z0 = Vector(), P0 = Matrix(); allout = true, n_presample_periods = 0)\n",
    "\n",
    "hamilton_smoother(data, TTT, RRR, CCC, QQ, ZZ, DD, EE, z0, P0; n_presample_periods = 0)\n",
    "koopman_smoother(data, TTT, RRR, CCC, QQ, ZZ, DD, z0, P0, pred, vpred; n_presample_periods = 0)\n",
    "carter_kohn_smoother(data, TTT, RRR, CCC, QQ, ZZ, DD, EE, z0, P0; n_presample_periods = 0, draw_states = true)\n",
    "durbin_koopman_smoother(data, TTT, RRR, CCC, QQ, ZZ, DD, EE, z0, P0; n_presample_periods = 0, draw_states = true)\n",
    "```\n",
    "\n",
    "For more information, see the documentation for each function (e.g. by entering\n",
    "`?kalman_filter` in the REPL).\n",
    "\n",
    "\n",
    "First, let's consider a single-regime example using the `AnSchorfheide` model from `DSGE.jl`. This small, 3 equation New Keynesian model is described in \"Bayesian Estimation of DSGE Models\" by Sungbae An and Frank Schorfheide. "
   ]
  },
  {
   "cell_type": "code",
   "execution_count": 1,
   "metadata": {},
   "outputs": [],
   "source": [
    "using DSGE, StateSpaceRoutines\n",
    "using QuantEcon: solve_discrete_lyapunov\n",
    "using DataFrames, Plots"
   ]
  },
  {
   "cell_type": "code",
   "execution_count": 2,
   "metadata": {},
   "outputs": [
    {
     "data": {
      "text/plain": [
       "Dynamic Stochastic General Equilibrium Model\n",
       "no. states:             8\n",
       "no. anticipated shocks: 0\n",
       "data vintage:           171219\n",
       "description:\n",
       " Julia implementation of model defined in 'Bayesian Estimation of DSGE Models' by Sungbae An and Frank Schorfheide: AnSchorfheide, ss0\n"
      ]
     },
     "execution_count": 2,
     "metadata": {},
     "output_type": "execute_result"
    }
   ],
   "source": [
    "# Setup the model and data\n",
    "m = AnSchorfheide()\n",
    "df = readtable(\"us.txt\", header = false, separator = ' ')\n",
    "data = convert(Matrix{Float64}, df)'\n",
    "dates = 1983:.25:2002.75 # data is from 1983Q1 to 2002Q4\n",
    "\n",
    "params = [2.09, 0.98, 2.25, 0.65, 0.34, 3.16, 0.51, 0.81, 0.98, 0.93, 0.19, 0.65, 0.24,\n",
    "          0.115985, 0.294166, 0.447587]\n",
    "update!(m, params)"
   ]
  },
  {
   "cell_type": "code",
   "execution_count": 3,
   "metadata": {},
   "outputs": [
    {
     "data": {
      "text/plain": [
       "3×3 Array{Float64,2}:\n",
       " 0.0576  0.0     0.0   \n",
       " 0.0     0.4225  0.0   \n",
       " 0.0     0.0     0.0361"
      ]
     },
     "execution_count": 3,
     "metadata": {},
     "output_type": "execute_result"
    }
   ],
   "source": [
    "# Solution to a Linear DSGE Model w/ IID Gaussian Errors\n",
    "system  = compute_system(m)\n",
    "TTT     = system[:TTT]\n",
    "RRR     = system[:RRR]\n",
    "CCC     = system[:CCC]\n",
    "EE      = system[:EE]\n",
    "DD      = system[:DD]\n",
    "ZZ      = system[:ZZ]\n",
    "QQ      = system[:QQ]"
   ]
  },
  {
   "cell_type": "markdown",
   "metadata": {},
   "source": [
    "Running the `kalman_filter` will return the following items:\n",
    "- `log_likelihood`: log likelihood of the state-space model\n",
    "- `zend`: `Nz` x 1 final filtered state `z_{T|T}`\n",
    "- `Pend`: `Nz` x `Nz` final filtered state covariance matrix `P_{T|T}`\n",
    "- `pred`: `Nz` x `T` matrix of one-step predicted state vectors `z_{t|t-1}`\n",
    "- `vpred`: `Nz` x `Nz` x `T` array of mean squared errors `P_{t|t-1}` of\n",
    "  predicted state vectors\n",
    "- `filt`: `Nz` x `T` matrix of filtered state vectors `z_{t|t}`\n",
    "- `vfilt`: `Nz` x `Nz` x `T` matrix containing mean squared errors `P_{t|t}` of\n",
    "  filtered state vectors\n",
    "- `yprederror`: `Ny` x `T` matrix of observable prediction errors\n",
    "  `y_t - y_{t|t-1}`\n",
    "- `ystdprederror`: `Ny` x `T` matrix of standardized observable prediction errors\n",
    "  `V_{t|t-1} \\ (y_t - y_{t|t-1})`, where `y_t - y_{t|t-1} ∼ N(0, V_{t|t-1}`\n",
    "- `rmse`: 1 x `T` row vector of root mean squared prediction errors\n",
    "- `rmsd`: 1 x `T` row vector of root mean squared standardized prediction errors\n",
    "- `z0`: `Nz` x 1 initial state vector. This may have reassigned to the last\n",
    "  presample state vector if `n_presample_periods > 0`\n",
    "- `P0`: `Nz` x `Nz` initial state covariance matrix. This may have reassigned to\n",
    "  the last presample state covariance if `n_presample_periods > 0`\n",
    "- `marginal_loglh`: a vector of the marginal log likelihoods from t = 1 to T"
   ]
  },
  {
   "cell_type": "code",
   "execution_count": 4,
   "metadata": {},
   "outputs": [
    {
     "data": {
      "text/plain": [
       "8×80 Array{Float64,2}:\n",
       " -0.184703  -10.7754    -19.6144    …   3.06589     3.10173    3.09017 \n",
       " -0.72195     0.347567    0.193455      0.0519992  -0.227797  -0.311898\n",
       "  0.778333    0.77998     0.913637     -0.90262    -0.901968  -0.974907\n",
       " -0.354339  -11.6059    -20.1197        2.70587     2.61902    2.97034 \n",
       "  0.340308  -10.8586    -19.5903        2.90376     3.09887    3.12445 \n",
       "  0.316583    0.646672    0.691767  …  -0.608649   -0.694255  -0.770598\n",
       "  0.139365  -10.6002    -19.1972        2.89796     3.02754    3.03739 \n",
       " -0.207616    0.266262    0.217263     -0.106976   -0.230791  -0.278541"
      ]
     },
     "execution_count": 4,
     "metadata": {},
     "output_type": "execute_result"
    }
   ],
   "source": [
    "n_states = size(TTT, 1)\n",
    "kal = kalman_filter(data, TTT, RRR, CCC, QQ, ZZ, DD, EE, zeros(n_states,), 1e6*eye(n_states, n_states))\n",
    "\n",
    "# entry 6 is the n_periods by n_states matrix of filtered states\n",
    "kal[6] "
   ]
  },
  {
   "cell_type": "code",
   "execution_count": 5,
   "metadata": {},
   "outputs": [
    {
     "data": {
      "text/plain": [
       "DataStructures.OrderedDict{Symbol,Int64} with 8 entries:\n",
       "  :y_t   => 1\n",
       "  :π_t   => 2\n",
       "  :R_t   => 3\n",
       "  :y_t1  => 4\n",
       "  :g_t   => 5\n",
       "  :z_t   => 6\n",
       "  :Ey_t1 => 7\n",
       "  :Eπ_t1 => 8"
      ]
     },
     "execution_count": 5,
     "metadata": {},
     "output_type": "execute_result"
    }
   ],
   "source": [
    "m.endogenous_states # display the list of states"
   ]
  },
  {
   "cell_type": "markdown",
   "metadata": {},
   "source": [
    "Now that we have run the filter, we can see the filtered estimates for the time series of `z_t`, the technology process:"
   ]
  },
  {
   "cell_type": "code",
   "execution_count": 6,
   "metadata": {},
   "outputs": [
    {
     "data": {
      "text/html": [
       "<?xml version=\"1.0\" encoding=\"utf-8\"?>\n",
       "<svg xmlns=\"http://www.w3.org/2000/svg\" xmlns:xlink=\"http://www.w3.org/1999/xlink\" width=\"600\" height=\"400\" viewBox=\"0 0 600 400\">\n",
       "<defs>\n",
       "  <clipPath id=\"clip00\">\n",
       "    <rect x=\"0\" y=\"0\" width=\"600\" height=\"400\"/>\n",
       "  </clipPath>\n",
       "</defs>\n",
       "<polygon clip-path=\"url(#clip4500)\" points=\"\n",
       "0,400 600,400 600,0 0,0 \n",
       "  \" fill=\"#ffffff\" fill-opacity=\"1\"/>\n",
       "<defs>\n",
       "  <clipPath id=\"clip01\">\n",
       "    <rect x=\"120\" y=\"0\" width=\"421\" height=\"400\"/>\n",
       "  </clipPath>\n",
       "</defs>\n",
       "<polygon clip-path=\"url(#clip4500)\" points=\"\n",
       "45.7332,375.813 580.315,375.813 580.315,11.811 45.7332,11.811 \n",
       "  \" fill=\"#ffffff\" fill-opacity=\"1\"/>\n",
       "<defs>\n",
       "  <clipPath id=\"clip02\">\n",
       "    <rect x=\"45\" y=\"11\" width=\"536\" height=\"365\"/>\n",
       "  </clipPath>\n",
       "</defs>\n",
       "<polyline clip-path=\"url(#clip4502)\" style=\"stroke:#000000; stroke-width:0.5; stroke-opacity:0.1; fill:none\" points=\"\n",
       "  99.8681,375.813 99.8681,11.811 \n",
       "  \"/>\n",
       "<polyline clip-path=\"url(#clip4502)\" style=\"stroke:#000000; stroke-width:0.5; stroke-opacity:0.1; fill:none\" points=\"\n",
       "  235.205,375.813 235.205,11.811 \n",
       "  \"/>\n",
       "<polyline clip-path=\"url(#clip4502)\" style=\"stroke:#000000; stroke-width:0.5; stroke-opacity:0.1; fill:none\" points=\"\n",
       "  370.542,375.813 370.542,11.811 \n",
       "  \"/>\n",
       "<polyline clip-path=\"url(#clip4502)\" style=\"stroke:#000000; stroke-width:0.5; stroke-opacity:0.1; fill:none\" points=\"\n",
       "  505.88,375.813 505.88,11.811 \n",
       "  \"/>\n",
       "<polyline clip-path=\"url(#clip4502)\" style=\"stroke:#000000; stroke-width:0.5; stroke-opacity:0.1; fill:none\" points=\"\n",
       "  45.7332,359.077 580.315,359.077 \n",
       "  \"/>\n",
       "<polyline clip-path=\"url(#clip4502)\" style=\"stroke:#000000; stroke-width:0.5; stroke-opacity:0.1; fill:none\" points=\"\n",
       "  45.7332,307.948 580.315,307.948 \n",
       "  \"/>\n",
       "<polyline clip-path=\"url(#clip4502)\" style=\"stroke:#000000; stroke-width:0.5; stroke-opacity:0.1; fill:none\" points=\"\n",
       "  45.7332,256.819 580.315,256.819 \n",
       "  \"/>\n",
       "<polyline clip-path=\"url(#clip4502)\" style=\"stroke:#000000; stroke-width:0.5; stroke-opacity:0.1; fill:none\" points=\"\n",
       "  45.7332,205.691 580.315,205.691 \n",
       "  \"/>\n",
       "<polyline clip-path=\"url(#clip4502)\" style=\"stroke:#000000; stroke-width:0.5; stroke-opacity:0.1; fill:none\" points=\"\n",
       "  45.7332,154.562 580.315,154.562 \n",
       "  \"/>\n",
       "<polyline clip-path=\"url(#clip4502)\" style=\"stroke:#000000; stroke-width:0.5; stroke-opacity:0.1; fill:none\" points=\"\n",
       "  45.7332,103.433 580.315,103.433 \n",
       "  \"/>\n",
       "<polyline clip-path=\"url(#clip4502)\" style=\"stroke:#000000; stroke-width:0.5; stroke-opacity:0.1; fill:none\" points=\"\n",
       "  45.7332,52.304 580.315,52.304 \n",
       "  \"/>\n",
       "<polyline clip-path=\"url(#clip4500)\" style=\"stroke:#000000; stroke-width:1; stroke-opacity:1; fill:none\" points=\"\n",
       "  45.7332,375.813 580.315,375.813 \n",
       "  \"/>\n",
       "<polyline clip-path=\"url(#clip4500)\" style=\"stroke:#000000; stroke-width:1; stroke-opacity:1; fill:none\" points=\"\n",
       "  45.7332,375.813 45.7332,11.811 \n",
       "  \"/>\n",
       "<polyline clip-path=\"url(#clip4500)\" style=\"stroke:#000000; stroke-width:1; stroke-opacity:1; fill:none\" points=\"\n",
       "  99.8681,375.813 99.8681,370.353 \n",
       "  \"/>\n",
       "<polyline clip-path=\"url(#clip4500)\" style=\"stroke:#000000; stroke-width:1; stroke-opacity:1; fill:none\" points=\"\n",
       "  235.205,375.813 235.205,370.353 \n",
       "  \"/>\n",
       "<polyline clip-path=\"url(#clip4500)\" style=\"stroke:#000000; stroke-width:1; stroke-opacity:1; fill:none\" points=\"\n",
       "  370.542,375.813 370.542,370.353 \n",
       "  \"/>\n",
       "<polyline clip-path=\"url(#clip4500)\" style=\"stroke:#000000; stroke-width:1; stroke-opacity:1; fill:none\" points=\"\n",
       "  505.88,375.813 505.88,370.353 \n",
       "  \"/>\n",
       "<polyline clip-path=\"url(#clip4500)\" style=\"stroke:#000000; stroke-width:1; stroke-opacity:1; fill:none\" points=\"\n",
       "  45.7332,359.077 53.7519,359.077 \n",
       "  \"/>\n",
       "<polyline clip-path=\"url(#clip4500)\" style=\"stroke:#000000; stroke-width:1; stroke-opacity:1; fill:none\" points=\"\n",
       "  45.7332,307.948 53.7519,307.948 \n",
       "  \"/>\n",
       "<polyline clip-path=\"url(#clip4500)\" style=\"stroke:#000000; stroke-width:1; stroke-opacity:1; fill:none\" points=\"\n",
       "  45.7332,256.819 53.7519,256.819 \n",
       "  \"/>\n",
       "<polyline clip-path=\"url(#clip4500)\" style=\"stroke:#000000; stroke-width:1; stroke-opacity:1; fill:none\" points=\"\n",
       "  45.7332,205.691 53.7519,205.691 \n",
       "  \"/>\n",
       "<polyline clip-path=\"url(#clip4500)\" style=\"stroke:#000000; stroke-width:1; stroke-opacity:1; fill:none\" points=\"\n",
       "  45.7332,154.562 53.7519,154.562 \n",
       "  \"/>\n",
       "<polyline clip-path=\"url(#clip4500)\" style=\"stroke:#000000; stroke-width:1; stroke-opacity:1; fill:none\" points=\"\n",
       "  45.7332,103.433 53.7519,103.433 \n",
       "  \"/>\n",
       "<polyline clip-path=\"url(#clip4500)\" style=\"stroke:#000000; stroke-width:1; stroke-opacity:1; fill:none\" points=\"\n",
       "  45.7332,52.304 53.7519,52.304 \n",
       "  \"/>\n",
       "<g clip-path=\"url(#clip4500)\">\n",
       "<text style=\"fill:#000000; fill-opacity:1; font-family:Arial,Helvetica Neue,Helvetica,sans-serif; font-size:12; text-anchor:middle;\" transform=\"rotate(0, 99.8681, 389.613)\" x=\"99.8681\" y=\"389.613\">1985</text>\n",
       "</g>\n",
       "<g clip-path=\"url(#clip4500)\">\n",
       "<text style=\"fill:#000000; fill-opacity:1; font-family:Arial,Helvetica Neue,Helvetica,sans-serif; font-size:12; text-anchor:middle;\" transform=\"rotate(0, 235.205, 389.613)\" x=\"235.205\" y=\"389.613\">1990</text>\n",
       "</g>\n",
       "<g clip-path=\"url(#clip4500)\">\n",
       "<text style=\"fill:#000000; fill-opacity:1; font-family:Arial,Helvetica Neue,Helvetica,sans-serif; font-size:12; text-anchor:middle;\" transform=\"rotate(0, 370.542, 389.613)\" x=\"370.542\" y=\"389.613\">1995</text>\n",
       "</g>\n",
       "<g clip-path=\"url(#clip4500)\">\n",
       "<text style=\"fill:#000000; fill-opacity:1; font-family:Arial,Helvetica Neue,Helvetica,sans-serif; font-size:12; text-anchor:middle;\" transform=\"rotate(0, 505.88, 389.613)\" x=\"505.88\" y=\"389.613\">2000</text>\n",
       "</g>\n",
       "<g clip-path=\"url(#clip4500)\">\n",
       "<text style=\"fill:#000000; fill-opacity:1; font-family:Arial,Helvetica Neue,Helvetica,sans-serif; font-size:12; text-anchor:end;\" transform=\"rotate(0, 39.7332, 363.577)\" x=\"39.7332\" y=\"363.577\">-0.75</text>\n",
       "</g>\n",
       "<g clip-path=\"url(#clip4500)\">\n",
       "<text style=\"fill:#000000; fill-opacity:1; font-family:Arial,Helvetica Neue,Helvetica,sans-serif; font-size:12; text-anchor:end;\" transform=\"rotate(0, 39.7332, 312.448)\" x=\"39.7332\" y=\"312.448\">-0.50</text>\n",
       "</g>\n",
       "<g clip-path=\"url(#clip4500)\">\n",
       "<text style=\"fill:#000000; fill-opacity:1; font-family:Arial,Helvetica Neue,Helvetica,sans-serif; font-size:12; text-anchor:end;\" transform=\"rotate(0, 39.7332, 261.319)\" x=\"39.7332\" y=\"261.319\">-0.25</text>\n",
       "</g>\n",
       "<g clip-path=\"url(#clip4500)\">\n",
       "<text style=\"fill:#000000; fill-opacity:1; font-family:Arial,Helvetica Neue,Helvetica,sans-serif; font-size:12; text-anchor:end;\" transform=\"rotate(0, 39.7332, 210.191)\" x=\"39.7332\" y=\"210.191\">0.00</text>\n",
       "</g>\n",
       "<g clip-path=\"url(#clip4500)\">\n",
       "<text style=\"fill:#000000; fill-opacity:1; font-family:Arial,Helvetica Neue,Helvetica,sans-serif; font-size:12; text-anchor:end;\" transform=\"rotate(0, 39.7332, 159.062)\" x=\"39.7332\" y=\"159.062\">0.25</text>\n",
       "</g>\n",
       "<g clip-path=\"url(#clip4500)\">\n",
       "<text style=\"fill:#000000; fill-opacity:1; font-family:Arial,Helvetica Neue,Helvetica,sans-serif; font-size:12; text-anchor:end;\" transform=\"rotate(0, 39.7332, 107.933)\" x=\"39.7332\" y=\"107.933\">0.50</text>\n",
       "</g>\n",
       "<g clip-path=\"url(#clip4500)\">\n",
       "<text style=\"fill:#000000; fill-opacity:1; font-family:Arial,Helvetica Neue,Helvetica,sans-serif; font-size:12; text-anchor:end;\" transform=\"rotate(0, 39.7332, 56.804)\" x=\"39.7332\" y=\"56.804\">0.75</text>\n",
       "</g>\n",
       "<polyline clip-path=\"url(#clip4502)\" style=\"stroke:#009af9; stroke-width:1; stroke-opacity:1; fill:none\" points=\"\n",
       "  45.7332,140.945 52.5001,73.4361 59.2669,64.2134 66.0338,60.1235 72.8006,24.0262 79.5675,29.8612 86.3344,12.283 93.1012,63.9485 99.8681,90.948 106.635,112.151 \n",
       "  113.402,135.41 120.169,107.402 126.936,145.458 133.702,244.357 140.469,198.901 147.236,190.827 154.003,155.945 160.77,145.127 167.537,142.722 174.304,146.604 \n",
       "  181.07,166.534 187.837,129.643 194.604,99.8677 201.371,88.2857 208.138,57.2458 214.905,11.811 221.672,79.3474 228.438,84.6734 235.205,46.5734 241.972,96.1156 \n",
       "  248.739,53.6514 255.506,64.6464 262.273,165.48 269.04,202.073 275.806,203.185 282.573,221.592 289.34,255.676 296.107,262.299 302.874,278.117 309.641,279.147 \n",
       "  316.408,292.639 323.174,294.811 329.941,311.514 336.708,287.86 343.475,302.977 350.242,279.702 357.009,238.266 363.776,236.611 370.542,208.711 377.309,193.01 \n",
       "  384.076,216.171 390.843,218.17 397.61,204.638 404.377,207.237 411.144,227.445 417.91,209.357 424.677,226.567 431.444,246.192 438.211,229.36 444.978,226.957 \n",
       "  451.745,248.432 458.512,243.616 465.278,228.784 472.045,246.727 478.812,262.238 485.579,238.002 492.346,226.244 499.113,217.189 505.88,193.281 512.646,182.63 \n",
       "  519.413,169.358 526.18,180.706 532.947,192.083 539.714,236.162 546.481,305.651 553.248,375.813 560.014,365.986 566.781,330.169 573.548,347.676 580.315,363.29 \n",
       "  \n",
       "  \"/>\n",
       "<polygon clip-path=\"url(#clip4500)\" points=\"\n",
       "457.527,62.931 562.315,62.931 562.315,32.691 457.527,32.691 \n",
       "  \" fill=\"#ffffff\" fill-opacity=\"1\"/>\n",
       "<polyline clip-path=\"url(#clip4500)\" style=\"stroke:#000000; stroke-width:1; stroke-opacity:1; fill:none\" points=\"\n",
       "  457.527,62.931 562.315,62.931 562.315,32.691 457.527,32.691 457.527,62.931 \n",
       "  \"/>\n",
       "<polyline clip-path=\"url(#clip4500)\" style=\"stroke:#009af9; stroke-width:1; stroke-opacity:1; fill:none\" points=\"\n",
       "  463.527,47.811 499.527,47.811 \n",
       "  \"/>\n",
       "<g clip-path=\"url(#clip4500)\">\n",
       "<text style=\"fill:#000000; fill-opacity:1; font-family:Arial,Helvetica Neue,Helvetica,sans-serif; font-size:12; text-anchor:start;\" transform=\"rotate(0, 505.527, 52.311)\" x=\"505.527\" y=\"52.311\">filtered z</text>\n",
       "</g>\n",
       "</svg>\n"
      ]
     },
     "execution_count": 6,
     "metadata": {},
     "output_type": "execute_result"
    }
   ],
   "source": [
    "z_filt = kal[6][6,:]\n",
    "plot(dates, z_filt, label = \"filtered z\")"
   ]
  },
  {
   "cell_type": "markdown",
   "metadata": {},
   "source": [
    "We can compare these filtered states with the smoothed results of the `hamilton_smoother`:"
   ]
  },
  {
   "cell_type": "code",
   "execution_count": 7,
   "metadata": {},
   "outputs": [
    {
     "data": {
      "text/html": [
       "<?xml version=\"1.0\" encoding=\"utf-8\"?>\n",
       "<svg xmlns=\"http://www.w3.org/2000/svg\" xmlns:xlink=\"http://www.w3.org/1999/xlink\" width=\"600\" height=\"400\" viewBox=\"0 0 600 400\">\n",
       "<defs>\n",
       "  <clipPath id=\"clip00\">\n",
       "    <rect x=\"0\" y=\"0\" width=\"600\" height=\"400\"/>\n",
       "  </clipPath>\n",
       "</defs>\n",
       "<polygon clip-path=\"url(#clip4700)\" points=\"\n",
       "0,400 600,400 600,0 0,0 \n",
       "  \" fill=\"#ffffff\" fill-opacity=\"1\"/>\n",
       "<defs>\n",
       "  <clipPath id=\"clip01\">\n",
       "    <rect x=\"120\" y=\"0\" width=\"421\" height=\"400\"/>\n",
       "  </clipPath>\n",
       "</defs>\n",
       "<polygon clip-path=\"url(#clip4700)\" points=\"\n",
       "45.7332,375.813 580.315,375.813 580.315,11.811 45.7332,11.811 \n",
       "  \" fill=\"#ffffff\" fill-opacity=\"1\"/>\n",
       "<defs>\n",
       "  <clipPath id=\"clip02\">\n",
       "    <rect x=\"45\" y=\"11\" width=\"536\" height=\"365\"/>\n",
       "  </clipPath>\n",
       "</defs>\n",
       "<polyline clip-path=\"url(#clip4702)\" style=\"stroke:#000000; stroke-width:0.5; stroke-opacity:0.1; fill:none\" points=\"\n",
       "  99.8681,375.813 99.8681,11.811 \n",
       "  \"/>\n",
       "<polyline clip-path=\"url(#clip4702)\" style=\"stroke:#000000; stroke-width:0.5; stroke-opacity:0.1; fill:none\" points=\"\n",
       "  235.205,375.813 235.205,11.811 \n",
       "  \"/>\n",
       "<polyline clip-path=\"url(#clip4702)\" style=\"stroke:#000000; stroke-width:0.5; stroke-opacity:0.1; fill:none\" points=\"\n",
       "  370.542,375.813 370.542,11.811 \n",
       "  \"/>\n",
       "<polyline clip-path=\"url(#clip4702)\" style=\"stroke:#000000; stroke-width:0.5; stroke-opacity:0.1; fill:none\" points=\"\n",
       "  505.88,375.813 505.88,11.811 \n",
       "  \"/>\n",
       "<polyline clip-path=\"url(#clip4702)\" style=\"stroke:#000000; stroke-width:0.5; stroke-opacity:0.1; fill:none\" points=\"\n",
       "  45.7332,356.727 580.315,356.727 \n",
       "  \"/>\n",
       "<polyline clip-path=\"url(#clip4702)\" style=\"stroke:#000000; stroke-width:0.5; stroke-opacity:0.1; fill:none\" points=\"\n",
       "  45.7332,305.944 580.315,305.944 \n",
       "  \"/>\n",
       "<polyline clip-path=\"url(#clip4702)\" style=\"stroke:#000000; stroke-width:0.5; stroke-opacity:0.1; fill:none\" points=\"\n",
       "  45.7332,255.162 580.315,255.162 \n",
       "  \"/>\n",
       "<polyline clip-path=\"url(#clip4702)\" style=\"stroke:#000000; stroke-width:0.5; stroke-opacity:0.1; fill:none\" points=\"\n",
       "  45.7332,204.379 580.315,204.379 \n",
       "  \"/>\n",
       "<polyline clip-path=\"url(#clip4702)\" style=\"stroke:#000000; stroke-width:0.5; stroke-opacity:0.1; fill:none\" points=\"\n",
       "  45.7332,153.596 580.315,153.596 \n",
       "  \"/>\n",
       "<polyline clip-path=\"url(#clip4702)\" style=\"stroke:#000000; stroke-width:0.5; stroke-opacity:0.1; fill:none\" points=\"\n",
       "  45.7332,102.813 580.315,102.813 \n",
       "  \"/>\n",
       "<polyline clip-path=\"url(#clip4702)\" style=\"stroke:#000000; stroke-width:0.5; stroke-opacity:0.1; fill:none\" points=\"\n",
       "  45.7332,52.03 580.315,52.03 \n",
       "  \"/>\n",
       "<polyline clip-path=\"url(#clip4700)\" style=\"stroke:#000000; stroke-width:1; stroke-opacity:1; fill:none\" points=\"\n",
       "  45.7332,375.813 580.315,375.813 \n",
       "  \"/>\n",
       "<polyline clip-path=\"url(#clip4700)\" style=\"stroke:#000000; stroke-width:1; stroke-opacity:1; fill:none\" points=\"\n",
       "  45.7332,375.813 45.7332,11.811 \n",
       "  \"/>\n",
       "<polyline clip-path=\"url(#clip4700)\" style=\"stroke:#000000; stroke-width:1; stroke-opacity:1; fill:none\" points=\"\n",
       "  99.8681,375.813 99.8681,370.353 \n",
       "  \"/>\n",
       "<polyline clip-path=\"url(#clip4700)\" style=\"stroke:#000000; stroke-width:1; stroke-opacity:1; fill:none\" points=\"\n",
       "  235.205,375.813 235.205,370.353 \n",
       "  \"/>\n",
       "<polyline clip-path=\"url(#clip4700)\" style=\"stroke:#000000; stroke-width:1; stroke-opacity:1; fill:none\" points=\"\n",
       "  370.542,375.813 370.542,370.353 \n",
       "  \"/>\n",
       "<polyline clip-path=\"url(#clip4700)\" style=\"stroke:#000000; stroke-width:1; stroke-opacity:1; fill:none\" points=\"\n",
       "  505.88,375.813 505.88,370.353 \n",
       "  \"/>\n",
       "<polyline clip-path=\"url(#clip4700)\" style=\"stroke:#000000; stroke-width:1; stroke-opacity:1; fill:none\" points=\"\n",
       "  45.7332,356.727 53.7519,356.727 \n",
       "  \"/>\n",
       "<polyline clip-path=\"url(#clip4700)\" style=\"stroke:#000000; stroke-width:1; stroke-opacity:1; fill:none\" points=\"\n",
       "  45.7332,305.944 53.7519,305.944 \n",
       "  \"/>\n",
       "<polyline clip-path=\"url(#clip4700)\" style=\"stroke:#000000; stroke-width:1; stroke-opacity:1; fill:none\" points=\"\n",
       "  45.7332,255.162 53.7519,255.162 \n",
       "  \"/>\n",
       "<polyline clip-path=\"url(#clip4700)\" style=\"stroke:#000000; stroke-width:1; stroke-opacity:1; fill:none\" points=\"\n",
       "  45.7332,204.379 53.7519,204.379 \n",
       "  \"/>\n",
       "<polyline clip-path=\"url(#clip4700)\" style=\"stroke:#000000; stroke-width:1; stroke-opacity:1; fill:none\" points=\"\n",
       "  45.7332,153.596 53.7519,153.596 \n",
       "  \"/>\n",
       "<polyline clip-path=\"url(#clip4700)\" style=\"stroke:#000000; stroke-width:1; stroke-opacity:1; fill:none\" points=\"\n",
       "  45.7332,102.813 53.7519,102.813 \n",
       "  \"/>\n",
       "<polyline clip-path=\"url(#clip4700)\" style=\"stroke:#000000; stroke-width:1; stroke-opacity:1; fill:none\" points=\"\n",
       "  45.7332,52.03 53.7519,52.03 \n",
       "  \"/>\n",
       "<g clip-path=\"url(#clip4700)\">\n",
       "<text style=\"fill:#000000; fill-opacity:1; font-family:Arial,Helvetica Neue,Helvetica,sans-serif; font-size:12; text-anchor:middle;\" transform=\"rotate(0, 99.8681, 389.613)\" x=\"99.8681\" y=\"389.613\">1985</text>\n",
       "</g>\n",
       "<g clip-path=\"url(#clip4700)\">\n",
       "<text style=\"fill:#000000; fill-opacity:1; font-family:Arial,Helvetica Neue,Helvetica,sans-serif; font-size:12; text-anchor:middle;\" transform=\"rotate(0, 235.205, 389.613)\" x=\"235.205\" y=\"389.613\">1990</text>\n",
       "</g>\n",
       "<g clip-path=\"url(#clip4700)\">\n",
       "<text style=\"fill:#000000; fill-opacity:1; font-family:Arial,Helvetica Neue,Helvetica,sans-serif; font-size:12; text-anchor:middle;\" transform=\"rotate(0, 370.542, 389.613)\" x=\"370.542\" y=\"389.613\">1995</text>\n",
       "</g>\n",
       "<g clip-path=\"url(#clip4700)\">\n",
       "<text style=\"fill:#000000; fill-opacity:1; font-family:Arial,Helvetica Neue,Helvetica,sans-serif; font-size:12; text-anchor:middle;\" transform=\"rotate(0, 505.88, 389.613)\" x=\"505.88\" y=\"389.613\">2000</text>\n",
       "</g>\n",
       "<g clip-path=\"url(#clip4700)\">\n",
       "<text style=\"fill:#000000; fill-opacity:1; font-family:Arial,Helvetica Neue,Helvetica,sans-serif; font-size:12; text-anchor:end;\" transform=\"rotate(0, 39.7332, 361.227)\" x=\"39.7332\" y=\"361.227\">-0.75</text>\n",
       "</g>\n",
       "<g clip-path=\"url(#clip4700)\">\n",
       "<text style=\"fill:#000000; fill-opacity:1; font-family:Arial,Helvetica Neue,Helvetica,sans-serif; font-size:12; text-anchor:end;\" transform=\"rotate(0, 39.7332, 310.444)\" x=\"39.7332\" y=\"310.444\">-0.50</text>\n",
       "</g>\n",
       "<g clip-path=\"url(#clip4700)\">\n",
       "<text style=\"fill:#000000; fill-opacity:1; font-family:Arial,Helvetica Neue,Helvetica,sans-serif; font-size:12; text-anchor:end;\" transform=\"rotate(0, 39.7332, 259.662)\" x=\"39.7332\" y=\"259.662\">-0.25</text>\n",
       "</g>\n",
       "<g clip-path=\"url(#clip4700)\">\n",
       "<text style=\"fill:#000000; fill-opacity:1; font-family:Arial,Helvetica Neue,Helvetica,sans-serif; font-size:12; text-anchor:end;\" transform=\"rotate(0, 39.7332, 208.879)\" x=\"39.7332\" y=\"208.879\">0.00</text>\n",
       "</g>\n",
       "<g clip-path=\"url(#clip4700)\">\n",
       "<text style=\"fill:#000000; fill-opacity:1; font-family:Arial,Helvetica Neue,Helvetica,sans-serif; font-size:12; text-anchor:end;\" transform=\"rotate(0, 39.7332, 158.096)\" x=\"39.7332\" y=\"158.096\">0.25</text>\n",
       "</g>\n",
       "<g clip-path=\"url(#clip4700)\">\n",
       "<text style=\"fill:#000000; fill-opacity:1; font-family:Arial,Helvetica Neue,Helvetica,sans-serif; font-size:12; text-anchor:end;\" transform=\"rotate(0, 39.7332, 107.313)\" x=\"39.7332\" y=\"107.313\">0.50</text>\n",
       "</g>\n",
       "<g clip-path=\"url(#clip4700)\">\n",
       "<text style=\"fill:#000000; fill-opacity:1; font-family:Arial,Helvetica Neue,Helvetica,sans-serif; font-size:12; text-anchor:end;\" transform=\"rotate(0, 39.7332, 56.53)\" x=\"39.7332\" y=\"56.53\">0.75</text>\n",
       "</g>\n",
       "<polyline clip-path=\"url(#clip4702)\" style=\"stroke:#009af9; stroke-width:1; stroke-opacity:1; fill:none\" points=\"\n",
       "  45.7332,140.071 52.5001,73.0191 59.2669,63.8589 66.0338,59.7966 72.8006,23.9435 79.5675,29.7391 86.3344,12.2798 93.1012,63.5957 99.8681,90.4125 106.635,111.472 \n",
       "  113.402,134.573 120.169,106.755 126.936,144.554 133.702,242.784 140.469,197.635 147.236,189.616 154.003,154.97 160.77,144.225 167.537,141.837 174.304,145.692 \n",
       "  181.07,165.487 187.837,128.846 194.604,99.2718 201.371,87.7683 208.138,56.9384 214.905,11.811 221.672,78.8904 228.438,84.1804 235.205,46.3382 241.972,95.5452 \n",
       "  248.739,53.3683 255.506,64.2889 262.273,164.44 269.04,200.786 275.806,201.89 282.573,220.173 289.34,254.026 296.107,260.604 302.874,276.315 309.641,277.338 \n",
       "  316.408,290.739 323.174,292.896 329.941,309.486 336.708,285.992 343.475,301.007 350.242,277.889 357.009,236.734 363.776,235.09 370.542,207.379 377.309,191.784 \n",
       "  384.076,214.788 390.843,216.773 397.61,203.333 404.377,205.915 411.144,225.986 417.91,208.02 424.677,225.114 431.444,244.606 438.211,227.888 444.978,225.501 \n",
       "  451.745,246.83 458.512,242.047 465.278,227.316 472.045,245.138 478.812,260.543 485.579,236.471 492.346,224.793 499.113,215.799 505.88,192.053 512.646,181.474 \n",
       "  519.413,168.292 526.18,179.563 532.947,190.863 539.714,234.644 546.481,303.663 553.248,373.35 560.014,363.589 566.781,328.014 573.548,345.404 580.315,360.911 \n",
       "  \n",
       "  \"/>\n",
       "<polyline clip-path=\"url(#clip4702)\" style=\"stroke:#e26f46; stroke-width:1; stroke-opacity:1; fill:none\" points=\"\n",
       "  45.7332,132.276 52.5001,65.063 59.2669,58.09 66.0338,53.7194 72.8006,13.5458 79.5675,19.3237 86.3344,17.3001 93.1012,66.2126 99.8681,91.1228 106.635,107.953 \n",
       "  113.402,129.944 120.169,102.701 126.936,139.245 133.702,238.984 140.469,195.114 147.236,190.073 154.003,154.585 160.77,144.029 167.537,141.399 174.304,145.667 \n",
       "  181.07,162.056 187.837,123.913 194.604,94.1807 201.371,80.8565 208.138,55.3988 214.905,14.1039 221.672,81.0987 228.438,89.3635 235.205,50.4718 241.972,101.816 \n",
       "  248.739,63.8182 255.506,74.9772 262.273,168.369 269.04,203.434 275.806,208.641 282.573,227.452 289.34,259.544 296.107,267.545 302.874,282.558 309.641,281.907 \n",
       "  316.408,293.905 323.174,294.286 329.941,311.324 336.708,285.39 343.475,296.447 350.242,274.263 357.009,231.305 363.776,229.453 370.542,204.208 377.309,190.081 \n",
       "  384.076,213.034 390.843,218.15 397.61,204.657 404.377,205.449 411.144,225.449 417.91,206.133 424.677,219.135 431.444,239.531 438.211,223.674 444.978,219.757 \n",
       "  451.745,241.044 458.512,237.756 465.278,227.424 472.045,243.491 478.812,258.829 485.579,233.874 492.346,222.665 499.113,213.603 505.88,188.104 512.646,179.63 \n",
       "  519.413,168.564 526.18,186.282 532.947,200.819 539.714,240.994 546.481,308.945 553.248,375.813 560.014,367.402 566.781,332.381 573.548,349.593 580.315,360.911 \n",
       "  \n",
       "  \"/>\n",
       "<polygon clip-path=\"url(#clip4700)\" points=\"\n",
       "441.053,78.051 562.315,78.051 562.315,32.691 441.053,32.691 \n",
       "  \" fill=\"#ffffff\" fill-opacity=\"1\"/>\n",
       "<polyline clip-path=\"url(#clip4700)\" style=\"stroke:#000000; stroke-width:1; stroke-opacity:1; fill:none\" points=\"\n",
       "  441.053,78.051 562.315,78.051 562.315,32.691 441.053,32.691 441.053,78.051 \n",
       "  \"/>\n",
       "<polyline clip-path=\"url(#clip4700)\" style=\"stroke:#009af9; stroke-width:1; stroke-opacity:1; fill:none\" points=\"\n",
       "  447.053,47.811 483.053,47.811 \n",
       "  \"/>\n",
       "<g clip-path=\"url(#clip4700)\">\n",
       "<text style=\"fill:#000000; fill-opacity:1; font-family:Arial,Helvetica Neue,Helvetica,sans-serif; font-size:12; text-anchor:start;\" transform=\"rotate(0, 489.053, 52.311)\" x=\"489.053\" y=\"52.311\">filtered z</text>\n",
       "</g>\n",
       "<polyline clip-path=\"url(#clip4700)\" style=\"stroke:#e26f46; stroke-width:1; stroke-opacity:1; fill:none\" points=\"\n",
       "  447.053,62.931 483.053,62.931 \n",
       "  \"/>\n",
       "<g clip-path=\"url(#clip4700)\">\n",
       "<text style=\"fill:#000000; fill-opacity:1; font-family:Arial,Helvetica Neue,Helvetica,sans-serif; font-size:12; text-anchor:start;\" transform=\"rotate(0, 489.053, 67.431)\" x=\"489.053\" y=\"67.431\">smoothed z</text>\n",
       "</g>\n",
       "</svg>\n"
      ]
     },
     "execution_count": 7,
     "metadata": {},
     "output_type": "execute_result"
    }
   ],
   "source": [
    "smoothed = hamilton_smoother(data, TTT, RRR, CCC, QQ, ZZ, DD, EE, zeros(n_states,), 1e6*eye(n_states, n_states))\n",
    "smoothed_states = smoothed[1]\n",
    "smoothed_shocks = smoothed[2]\n",
    "z_smoothed = smoothed_states[6,:]\n",
    "\n",
    "plot(dates, z_filt, label = \"filtered z\");\n",
    "plot!(dates, z_smoothed, label = \"smoothed z\")"
   ]
  },
  {
   "cell_type": "markdown",
   "metadata": {},
   "source": [
    "Here, the estimates of $z_{t|T}$ are approximately the same as $z_{t|t}$.  "
   ]
  },
  {
   "cell_type": "markdown",
   "metadata": {},
   "source": [
    "### Regime-Switching Methods\n",
    "\n",
    "All of the provided algorithms can handle time-varying state-space systems. To\n",
    "do this, define `regime_indices`, a `Vector{Range{Int64}}` of length\n",
    "`n_regimes`, where `regime_indices[i]` indicates the range of periods `t` in\n",
    "regime `i`. Let `TTT_i`, `RRR_i`, etc. denote the state-space matrices in regime\n",
    "`i`. Then the state space is given by:\n",
    "\n",
    "```\n",
    "z_{t+1} = CCC_i + TTT_i*z_t + RRR_i*ϵ_t    (transition equation)\n",
    "y_t     = DD_i  + ZZ_i*z_t  + η_t          (measurement equation)\n",
    "\n",
    "ϵ_t ∼ N(0, QQ_i)\n",
    "η_t ∼ N(0, EE_i)\n",
    "```\n",
    "\n",
    "Letting `TTTs = [TTT_1, ..., TTT_{n_regimes}]`, etc., we can then call the time-\n",
    "varying methods of the algorithms:\n",
    "\n",
    "```\n",
    "kalman_filter(regime_indices, data, TTTs, RRRs, CCCs, QQs, ZZs, DDs, EEs, z0 = Vector(), P0 = Matrix(); allout = true, n_presample_periods = 0)\n",
    "\n",
    "hamilton_smoother(regime_indices, data, TTTs, RRRs, CCCs, QQs, ZZs, DDs, EEs, z0, P0; n_presample_periods = 0)\n",
    "koopman_smoother(regime_indices, data, TTTs, RRRs, CCCs, QQs, ZZs, DDs, z0, P0, pred, vpred; n_presample_periods = 0)\n",
    "carter_kohn_smoother(regime_indices, data, TTTs, RRRs, CCCs, QQs, ZZs, DDs, EEs, z0, P0; n_presample_periods = 0, draw_states = true)\n",
    "durbin_koopman_smoother(regime_indices, data, TTTs, RRRs, CCCs, QQs, ZZs, DDs, EEs, z0, P0; n_presample_periods = 0, draw_states = true)\n",
    "```\n",
    "\n",
    "In DSGE.jl, we use this regime-switching framework to differentiate between the pre-forward guidance regime and the Fed's current regime."
   ]
  },
  {
   "cell_type": "markdown",
   "metadata": {},
   "source": [
    "As an example, we will filter our `AnSchorfheide` model on two regimes: 1983-1987 and 1988-2002. These correspond loosely to the pre-Great Moderation period and the Great Moderation. The regimes will be identical except that the variance of the monetary policy shock will be larger in the second:"
   ]
  },
  {
   "cell_type": "code",
   "execution_count": 9,
   "metadata": {},
   "outputs": [
    {
     "data": {
      "text/plain": [
       "Dynamic Stochastic General Equilibrium Model\n",
       "no. states:             8\n",
       "no. anticipated shocks: 0\n",
       "data vintage:           171219\n",
       "description:\n",
       " Julia implementation of model defined in 'Bayesian Estimation of DSGE Models' by Sungbae An and Frank Schorfheide: AnSchorfheide, ss0\n"
      ]
     },
     "execution_count": 9,
     "metadata": {},
     "output_type": "execute_result"
    }
   ],
   "source": [
    "m_2 = AnSchorfheide()\n",
    "params_2 = [2.09, 0.98, 2.25, 0.65, 0.34, 3.16, 0.51, 0.81, 0.98, 0.93, 0.19*3, 0.65, 0.24,\n",
    "          0.115985, 0.294166, 0.447587]\n",
    "update!(m_2, params_2)"
   ]
  },
  {
   "cell_type": "code",
   "execution_count": 38,
   "metadata": {},
   "outputs": [
    {
     "data": {
      "text/plain": [
       "2-element Array{Range{Int64},1}:\n",
       " 1:16 \n",
       " 17:80"
      ]
     },
     "execution_count": 38,
     "metadata": {},
     "output_type": "execute_result"
    }
   ],
   "source": [
    "system_2  = compute_system(m)\n",
    "TTT_2     = system_2[:TTT]\n",
    "RRR_2     = system_2[:RRR]\n",
    "CCC_2     = system_2[:CCC]\n",
    "EE_2      = system_2[:EE]\n",
    "DD_2      = system_2[:DD]\n",
    "ZZ_2      = system_2[:ZZ]\n",
    "QQ_2      = system_2[:QQ]\n",
    "\n",
    "TTTs = [TTT_2, TTT]\n",
    "RRRs = [RRR_2, RRR]\n",
    "CCCs = [CCC_2, CCC]\n",
    "EEs  = [EE_2, EE]\n",
    "DDs  = [DD_2, DD]\n",
    "ZZs  = [ZZ_2, ZZ]\n",
    "QQs  = [QQ_2, QQ]\n",
    "\n",
    "regime_indices = Range{Int64}[1:16,17:80]"
   ]
  },
  {
   "cell_type": "code",
   "execution_count": null,
   "metadata": {},
   "outputs": [],
   "source": [
    "kal_regime = kalman_filter(regime_indices, data, TTTs, RRRs, CCCs, QQs, ZZs, DDs, EEs, \n",
    "                           zeros(n_states,), 1e6*eye(n_states, n_states))\n",
    "smoothed_regime = hamilton_smoother(regime_indices, data, TTTs, RRRs, CCCs, QQs, ZZs, DDs, EEs, \n",
    "                                    zeros(n_states,), 1e6*eye(n_states, n_states))"
   ]
  },
  {
   "cell_type": "code",
   "execution_count": null,
   "metadata": {},
   "outputs": [],
   "source": [
    "z_filt_regime = kal_regime[6][6,:]\n",
    "z_smoothed_regime = smoothed_regime[1][6,:]\n",
    "\n",
    "plot(dates, z_filt_regime, label = \"filtered z\");\n",
    "plot!(dates, z_smoothed_regime, label = \"smoothed z\")"
   ]
  },
  {
   "cell_type": "markdown",
   "metadata": {},
   "source": [
    "## Nonlinear Estimation\n",
    "\n",
    "The tempered particle filter is a particle filtering method which can approximate the log-likelihood value implied by a general (potentially non-linear) state space system with the following representation:\n",
    "\n",
    "### General State Space System\n",
    "```\n",
    "z_{t+1} = Φ(z_t, ϵ_t)        (transition equation)\n",
    "y_t     = Ψ(z_t) + u_t       (measurement equation)\n",
    "\n",
    "ϵ_t ∼ F_ϵ(∙; θ)\n",
    "u_t ∼ N(0, HH), where HH is the variance matrix of the i.i.d measurement error\n",
    "Cov(ϵ_t, u_t) = 0\n",
    "```\n",
    "- The documentation and code are located in [src/filters/tempered_particle_filter](https://github.com/FRBNY-DSGE/StateSpaceRoutines.jl/tree/doc/src/filters/tempered_particle_filter).\n",
    "- The example is located in [docs/examples/tempered_particle_filter](https://github.com/FRBNY-DSGE/StateSpaceRoutines.jl/tree/doc/docs/examples/tempered_particle_filter)"
   ]
  },
  {
   "cell_type": "code",
   "execution_count": 42,
   "metadata": {},
   "outputs": [
    {
     "data": {
      "text/plain": [
       "FullNormal(\n",
       "dim: 3\n",
       "μ: [0.0, 0.0, 0.0]\n",
       "Σ: [0.0134524 0.0 0.0; 0.0 0.0865339 0.0; 0.0 0.0 0.200334]\n",
       ")\n"
      ]
     },
     "execution_count": 42,
     "metadata": {},
     "output_type": "execute_result"
    }
   ],
   "source": [
    "# Define the (potentially non-linear) transition and measurement equations\n",
    "Φ(s_t::Vector{Float64}, ϵ_t::Vector{Float64}) = TTT*s_t + RRR*ϵ_t + CCC\n",
    "Ψ(s_t::Vector{Float64}, u_t::Vector{Float64}) = ZZ*s_t + DD + u_t\n",
    "\n",
    "F_ϵ = Distributions.MvNormal(zeros(size(QQ, 1)), QQ)\n",
    "F_u = Distributions.MvNormal(zeros(size(EE, 1)), EE)"
   ]
  },
  {
   "cell_type": "markdown",
   "metadata": {},
   "source": []
  }
 ],
 "metadata": {
  "kernelspec": {
   "display_name": "Julia 0.6.1",
   "language": "julia",
   "name": "julia-0.6"
  },
  "language_info": {
   "file_extension": ".jl",
   "mimetype": "application/julia",
   "name": "julia",
   "version": "0.6.1"
  }
 },
 "nbformat": 4,
 "nbformat_minor": 2
}
