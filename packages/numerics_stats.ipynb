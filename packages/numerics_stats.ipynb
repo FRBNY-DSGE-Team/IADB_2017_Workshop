{
 "cells": [
  {
   "cell_type": "markdown",
   "metadata": {
    "slideshow": {
     "slide_type": "slide"
    }
   },
   "source": [
    "# Numerical and statistical tools\n",
    "\n",
    "Based on a notebook by Chase Coleman and Spencer Lyon and on material from QuantEcon\n",
    "\n",
    "18 December 2017"
   ]
  },
  {
   "cell_type": "markdown",
   "metadata": {
    "slideshow": {
     "slide_type": "fragment"
    }
   },
   "source": [
    "This notebook covers a selection of additional packages, covering topics in statistics, data handling, and other areas of interest.\n",
    "\n",
    "Anyone interested in autodiff can look at [ForwardDiff.jl](https://github.com/JuliaDiff/ForwardDiff.jl) and [ReverseDiff.jl](https://github.com/JuliaDiff/ReverseDiff.jl)"
   ]
  },
  {
   "cell_type": "markdown",
   "metadata": {
    "slideshow": {
     "slide_type": "slide"
    }
   },
   "source": [
    "## Distributions.jl\n",
    "\n",
    "Provides routines for working with probability distributions and...\n",
    "    - Computing moments/statistics: mean, median, mode, entropy, mgf, quantile\n",
    "    - Probability evaluation: pdf, cdf, ccdf, quantile, invlogcdf\n",
    "    - Sampling: rand and rand!\n",
    "\n",
    "[Documentation](http://distributionsjl.readthedocs.io/en/latest/)"
   ]
  },
  {
   "cell_type": "code",
   "execution_count": 27,
   "metadata": {
    "collapsed": true
   },
   "outputs": [],
   "source": [
    "# Pkg.add(\"Distributions\")"
   ]
  },
  {
   "cell_type": "markdown",
   "metadata": {
    "slideshow": {
     "slide_type": "subslide"
    }
   },
   "source": [
    "### Distributions.jl Basics"
   ]
  },
  {
   "cell_type": "code",
   "execution_count": 1,
   "metadata": {},
   "outputs": [],
   "source": [
    "using Distributions"
   ]
  },
  {
   "cell_type": "code",
   "execution_count": 29,
   "metadata": {},
   "outputs": [
    {
     "data": {
      "text/plain": [
       "67"
      ]
     },
     "execution_count": 29,
     "metadata": {},
     "output_type": "execute_result"
    }
   ],
   "source": [
    "# all subtypes of `Distributions.Distribution`\n",
    "length(subtypes(Distribution))"
   ]
  },
  {
   "cell_type": "code",
   "execution_count": 2,
   "metadata": {
    "slideshow": {
     "slide_type": "fragment"
    }
   },
   "outputs": [
    {
     "name": "stdout",
     "output_type": "stream",
     "text": [
      "search: \u001b[1mN\u001b[22m\u001b[1mo\u001b[22m\u001b[1mr\u001b[22m\u001b[1mm\u001b[22m\u001b[1ma\u001b[22m\u001b[1ml\u001b[22m \u001b[1mn\u001b[22m\u001b[1mo\u001b[22m\u001b[1mr\u001b[22m\u001b[1mm\u001b[22m\u001b[1ma\u001b[22m\u001b[1ml\u001b[22mize \u001b[1mn\u001b[22m\u001b[1mo\u001b[22m\u001b[1mr\u001b[22m\u001b[1mm\u001b[22m\u001b[1ma\u001b[22m\u001b[1ml\u001b[22mize! \u001b[1mN\u001b[22m\u001b[1mo\u001b[22m\u001b[1mr\u001b[22m\u001b[1mm\u001b[22m\u001b[1ma\u001b[22m\u001b[1ml\u001b[22mCanon \u001b[1mn\u001b[22m\u001b[1mo\u001b[22m\u001b[1mr\u001b[22m\u001b[1mm\u001b[22m\u001b[1ma\u001b[22m\u001b[1ml\u001b[22mize_string\n",
      "\n"
     ]
    },
    {
     "data": {
      "text/markdown": [
       "```\n",
       "Normal(μ,σ)\n",
       "```\n",
       "\n",
       "The *Normal distribution* with mean `μ` and standard deviation `σ` has probability density function\n",
       "\n",
       "$$\n",
       "f(x; \\mu, \\sigma) = \\frac{1}{\\sqrt{2 \\pi \\sigma^2}}\n",
       "\\exp \\left( - \\frac{(x - \\mu)^2}{2 \\sigma^2} \\right)\n",
       "$$\n",
       "\n",
       "```julia\n",
       "Normal()          # standard Normal distribution with zero mean and unit variance\n",
       "Normal(mu)        # Normal distribution with mean mu and unit variance\n",
       "Normal(mu, sig)   # Normal distribution with mean mu and variance sig^2\n",
       "\n",
       "params(d)         # Get the parameters, i.e. (mu, sig)\n",
       "mean(d)           # Get the mean, i.e. mu\n",
       "std(d)            # Get the standard deviation, i.e. sig\n",
       "```\n",
       "\n",
       "External links\n",
       "\n",
       "  * [Normal distribution on Wikipedia](http://en.wikipedia.org/wiki/Normal_distribution)\n"
      ],
      "text/plain": [
       "```\n",
       "Normal(μ,σ)\n",
       "```\n",
       "\n",
       "The *Normal distribution* with mean `μ` and standard deviation `σ` has probability density function\n",
       "\n",
       "$$\n",
       "f(x; \\mu, \\sigma) = \\frac{1}{\\sqrt{2 \\pi \\sigma^2}}\n",
       "\\exp \\left( - \\frac{(x - \\mu)^2}{2 \\sigma^2} \\right)\n",
       "$$\n",
       "\n",
       "```julia\n",
       "Normal()          # standard Normal distribution with zero mean and unit variance\n",
       "Normal(mu)        # Normal distribution with mean mu and unit variance\n",
       "Normal(mu, sig)   # Normal distribution with mean mu and variance sig^2\n",
       "\n",
       "params(d)         # Get the parameters, i.e. (mu, sig)\n",
       "mean(d)           # Get the mean, i.e. mu\n",
       "std(d)            # Get the standard deviation, i.e. sig\n",
       "```\n",
       "\n",
       "External links\n",
       "\n",
       "  * [Normal distribution on Wikipedia](http://en.wikipedia.org/wiki/Normal_distribution)\n"
      ]
     },
     "execution_count": 2,
     "metadata": {},
     "output_type": "execute_result"
    }
   ],
   "source": [
    "?Normal  # good documentation"
   ]
  },
  {
   "cell_type": "code",
   "execution_count": 3,
   "metadata": {
    "scrolled": false,
    "slideshow": {
     "slide_type": "fragment"
    }
   },
   "outputs": [
    {
     "name": "stdout",
     "output_type": "stream",
     "text": [
      "Working with distribution: Distributions.Normal{Float64}(μ=0.0, σ=1.0)\n",
      "mean(d) = 0.0\n",
      "rand(d, 2, 2) = [1.13714 -0.183199; -0.552657 -0.821711]\n",
      "pdf(d, rand(d)) = 0.3181295845549784\n",
      "\n",
      "\n",
      "\n",
      "\n",
      "Working with distribution: Distributions.Beta{Float64}(α=1.0, β=2.0)\n",
      "mean(d) = 0.3333333333333333\n",
      "rand(d, 2, 2) = [0.170901 0.0361851; 0.204202 0.739539]\n",
      "pdf(d, rand(d)) = 1.3037006671046503\n",
      "\n",
      "\n",
      "\n",
      "\n",
      "Working with distribution: Distributions.Chisq{Float64}(ν=5.0)\n",
      "mean(d) = 5.0\n",
      "rand(d, 2, 2) = [5.50546 4.6375; 12.0028 3.93241]\n",
      "pdf(d, rand(d)) = 0.13638158972826442\n",
      "\n",
      "\n",
      "\n",
      "\n",
      "Working with distribution: Distributions.Frechet{Float64}(α=5.0, θ=2.0)\n",
      "mean(d) = 2.3284594274506065\n",
      "rand(d, 2, 2) = [1.75435 1.72247; 1.66146 1.67428]\n",
      "pdf(d, rand(d)) = 0.8873754496107239\n",
      "\n",
      "\n",
      "\n",
      "\n",
      "Working with distribution: Distributions.Gamma{Float64}(α=1.0, θ=2.0)\n",
      "mean(d) = 2.0\n",
      "rand(d, 2, 2) = [0.0447799 0.431371; 1.7511 2.16835]\n",
      "pdf(d, rand(d)) = 0.002599582677349569\n",
      "\n",
      "\n",
      "\n",
      "\n",
      "Working with distribution: Distributions.Pareto{Float64}(α=3.0, θ=2.0)\n",
      "mean(d) = 3.0\n",
      "rand(d, 2, 2) = [3.70509 2.30255; 3.91045 2.75899]\n",
      "pdf(d, rand(d)) = 0.3774305941945478\n",
      "\n",
      "\n",
      "\n",
      "\n",
      "Working with distribution: Distributions.Binomial{Float64}(n=10, p=0.6)\n",
      "mean(d) = 6.0\n",
      "rand(d, 2, 2) = [8 5; 6 6]\n",
      "pdf(d, rand(d)) = 0.250822656\n",
      "\n",
      "\n",
      "\n",
      "\n",
      "Working with distribution: Distributions.Poisson{Float64}(λ=0.7)\n",
      "mean(d) = 0.7\n",
      "rand(d, 2, 2) = [1 1; 0 1]\n",
      "pdf(d, rand(d)) = 0.4965853037914095\n",
      "\n",
      "\n",
      "\n",
      "\n",
      "Working with distribution: Distributions.MvLogNormal{Float64,PDMats.PDMat{Float64,Array{Float64,2}},Array{Float64,1}}(\n",
      "dim: 2\n",
      "μ: [1.0, 1.0]\n",
      "Σ: [3.0 0.0; 0.0 3.0]\n",
      ")\n",
      "\n",
      "mean(d) = [12.1825, 12.1825]\n",
      "rand(d, 2) = [52.1449 2.48705; 2.99419 1.44291]\n",
      "pdf(d, rand(d)) = 0.0038941056157832696\n",
      "\n",
      "\n",
      "\n",
      "\n",
      "Working with distribution: Distributions.Dirichlet{Float64}(alpha=[0.1, 0.2, 0.3, 0.4])\n",
      "mean(d) = [0.1, 0.2, 0.3, 0.4]\n",
      "rand(d, 2) = [0.420241 4.2805e-6; 0.0152342 5.05126e-8; 0.0506917 0.708622; 0.513833 0.291374]\n",
      "pdf(d, rand(d)) = 15.280018101140051\n",
      "\n",
      "\n",
      "\n",
      "\n",
      "Working with distribution: Distributions.InverseWishart{Float64,PDMats.PDMat{Float64,Array{Float64,2}}}(\n",
      "df: 5.0\n",
      "Ψ: [1.0 0.0; 0.0 1.0]\n",
      ")\n",
      "\n",
      "mean(d) = [0.5 0.0; 0.0 0.5]\n",
      "rand(d, 2) = Array{Float64,2}[[5.39938 -0.590012; -0.590012 0.172586], [0.216843 -0.0374544; -0.0374544 0.360345]]\n",
      "pdf(d, rand(d)) = 53.771062472118956\n",
      "\n",
      "\n",
      "\n",
      "\n",
      "Working with distribution: MixtureModel{Distributions.Normal}(K = 3)\n",
      "components[1] (prior = 0.2000): Distributions.Normal{Float64}(μ=-2.0, σ=1.2)\n",
      "components[2] (prior = 0.5000): Distributions.Normal{Float64}(μ=0.0, σ=1.0)\n",
      "components[3] (prior = 0.3000): Distributions.Normal{Float64}(μ=3.0, σ=2.5)\n",
      "\n",
      "mean(d) = 0.4999999999999999\n",
      "rand(d, 2, 2) = [-1.01935 3.66368; 1.33084 -3.6402]\n",
      "pdf(d, rand(d)) = 0.04670318763847431\n",
      "\n",
      "\n",
      "\n",
      "\n"
     ]
    }
   ],
   "source": [
    "dists = [\n",
    "    Normal(0, 1),\n",
    "    Beta(1.0, 2.0),\n",
    "    Chisq(5),\n",
    "    Frechet(5.0, 2.0),\n",
    "    Gamma(1.0, 2.0),\n",
    "    Pareto(3.0, 2.0),\n",
    "    Binomial(10, 0.6),\n",
    "    Poisson(0.7),\n",
    "    MvLogNormal(ones(2), 3*eye(2)),\n",
    "    Dirichlet([0.1, 0.2, 0.3, 0.4]),\n",
    "    InverseWishart(5, eye(2)),\n",
    "    MixtureModel(Normal[\n",
    "        Normal(-2.0, 1.2),\n",
    "        Normal(0.0, 1.0),\n",
    "        Normal(3.0, 2.5)], \n",
    "        [0.2, 0.5, 0.3]  # prior\n",
    "    )\n",
    "]\n",
    "\n",
    "for d in dists\n",
    "    println(\"Working with distribution: $(repr(d))\")\n",
    "    @show mean(d)\n",
    "    if isa(d, Distributions.UnivariateDistribution)\n",
    "        @show rand(d, 2, 2)\n",
    "    else\n",
    "        @show rand(d, 2)\n",
    "    end\n",
    "    \n",
    "    @show pdf(d, rand(d))\n",
    "    println(\"\\n\\n\\n\")\n",
    "end"
   ]
  },
  {
   "cell_type": "markdown",
   "metadata": {
    "slideshow": {
     "slide_type": "subslide"
    }
   },
   "source": [
    "### More than you need\n"
   ]
  },
  {
   "cell_type": "markdown",
   "metadata": {},
   "source": [
    "Let's list all the available distributions, by type of distribution"
   ]
  },
  {
   "cell_type": "code",
   "execution_count": 32,
   "metadata": {},
   "outputs": [
    {
     "name": "stdout",
     "output_type": "stream",
     "text": [
      "Distributions.Distribution{Distributions.Matrixvariate,Distributions.Discrete}: \n",
      "subtypes(T) = Union{DataType, UnionAll}[Distributions.AbstractMixtureModel{Distributions.Matrixvariate,Distributions.Discrete,C} where C<:Distributions.Distribution]\n",
      "\n",
      "\n",
      "\n",
      "Distributions.Distribution{Distributions.Multivariate,Distributions.Discrete}: \n",
      "subtypes(T) = Union{DataType, UnionAll}[Distributions.AbstractMixtureModel{Distributions.Multivariate,Distributions.Discrete,C} where C<:Distributions.Distribution, Distributions.DirichletMultinomial, Distributions.Multinomial]\n",
      "\n",
      "\n",
      "\n",
      "Distributions.Distribution{Distributions.Univariate,Distributions.Discrete}: \n",
      "subtypes(T) = Union{DataType, UnionAll}[Distributions.AbstractMixtureModel{Distributions.Univariate,Distributions.Discrete,C} where C<:Distributions.Distribution, Distributions.Bernoulli, Distributions.BetaBinomial, Distributions.Binomial, Distributions.Categorical, Distributions.DiscreteUniform, Distributions.Geometric, Distributions.Hypergeometric, Distributions.NegativeBinomial, Distributions.NoncentralHypergeometric, Distributions.Poisson, Distributions.PoissonBinomial, Distributions.Skellam, Distributions.Truncated{D,Distributions.Discrete} where D<:(Distributions.Distribution{Distributions.Univariate,S} where S<:Distributions.ValueSupport)]\n",
      "\n",
      "\n",
      "\n",
      "Distributions.Distribution{Distributions.Matrixvariate,Distributions.Continuous}: \n",
      "subtypes(T) = Union{DataType, UnionAll}[Distributions.AbstractMixtureModel{Distributions.Matrixvariate,Distributions.Continuous,C} where C<:Distributions.Distribution, Distributions.InverseWishart, Distributions.Wishart]\n",
      "\n",
      "\n",
      "\n",
      "Distributions.Distribution{Distributions.Multivariate,Distributions.Continuous}: \n",
      "subtypes(T) = Union{DataType, UnionAll}[Distributions.AbstractMixtureModel{Distributions.Multivariate,Distributions.Continuous,C} where C<:Distributions.Distribution, Distributions.AbstractMvLogNormal, Distributions.AbstractMvNormal, Distributions.AbstractMvTDist, Distributions.Dirichlet, Distributions.VonMisesFisher]\n",
      "\n",
      "\n",
      "\n",
      "Distributions.Distribution{Distributions.Univariate,Distributions.Continuous}: \n",
      "subtypes(T) = Union{DataType, UnionAll}[Distributions.AbstractMixtureModel{Distributions.Univariate,Distributions.Continuous,C} where C<:Distributions.Distribution, Distributions.Arcsine, Distributions.Beta, Distributions.BetaPrime, Distributions.Biweight, Distributions.Cauchy, Distributions.Chi, Distributions.Chisq, Distributions.Cosine, Distributions.EdgeworthAbstract, Distributions.EmpiricalUnivariateDistribution, Distributions.Epanechnikov, Distributions.Erlang, Distributions.Exponential, Distributions.FDist, Distributions.Frechet, Distributions.Gamma, Distributions.GeneralizedExtremeValue, Distributions.GeneralizedPareto, Distributions.Gumbel, Distributions.InverseGamma, Distributions.InverseGaussian, Distributions.KSDist, Distributions.KSOneSided, Distributions.Kolmogorov, Distributions.Laplace, Distributions.Levy, Distributions.LogNormal, Distributions.Logistic, Distributions.NoncentralBeta, Distributions.NoncentralChisq, Distributions.NoncentralF, Distributions.NoncentralT, Distributions.Normal, Distributions.NormalCanon, Distributions.NormalInverseGaussian, Distributions.Pareto, Distributions.Rayleigh, Distributions.SymTriangularDist, Distributions.TDist, Distributions.TriangularDist, Distributions.Triweight, Distributions.Truncated{D,Distributions.Continuous} where D<:(Distributions.Distribution{Distributions.Univariate,S} where S<:Distributions.ValueSupport), Distributions.Uniform, Distributions.VonMises, Distributions.Weibull]\n",
      "\n",
      "\n",
      "\n"
     ]
    }
   ],
   "source": [
    "dist_types = [\n",
    "    Distributions.DiscreteMatrixDistribution,\n",
    "    Distributions.DiscreteMultivariateDistribution,\n",
    "    Distributions.DiscreteUnivariateDistribution,\n",
    "    Distributions.ContinuousMatrixDistribution,\n",
    "    Distributions.ContinuousMultivariateDistribution,\n",
    "    Distributions.ContinuousUnivariateDistribution,   \n",
    "]\n",
    "\n",
    "for T in dist_types\n",
    "    println(\"$T: \")\n",
    "    @show subtypes(T)\n",
    "    println(\"\\n\\n\")\n",
    "end "
   ]
  },
  {
   "cell_type": "code",
   "execution_count": 33,
   "metadata": {
    "slideshow": {
     "slide_type": "fragment"
    }
   },
   "outputs": [
    {
     "data": {
      "text/plain": [
       "Distributions.Normal{Float64}(μ=-0.0015332949351311543, σ=1.0000359500569347)"
      ]
     },
     "execution_count": 33,
     "metadata": {},
     "output_type": "execute_result"
    }
   ],
   "source": [
    "# fitting a distribution, given some samples\n",
    "fit_mle(Normal, randn(100_000)) # should get close to N(0, 1)"
   ]
  },
  {
   "cell_type": "code",
   "execution_count": 34,
   "metadata": {
    "slideshow": {
     "slide_type": "fragment"
    }
   },
   "outputs": [
    {
     "data": {
      "text/plain": [
       "Distributions.Uniform{Float64}(a=1.0000075805099509, b=2.999950042341385)"
      ]
     },
     "execution_count": 34,
     "metadata": {},
     "output_type": "execute_result"
    }
   ],
   "source": [
    "# do fitting with mle\n",
    "fit_mle(Uniform, rand(100_000) .* 2 .+ 1) # should get close to U(1, 3)"
   ]
  },
  {
   "cell_type": "markdown",
   "metadata": {
    "slideshow": {
     "slide_type": "slide"
    }
   },
   "source": [
    "## Calculus.jl\n",
    "\n",
    "- Computes analytical derivatives of Julia `Expr`essions and accurate numerical derivatives of functions\n",
    "\n",
    "[Package](https://github.com/johnmyleswhite/Calculus.jl)"
   ]
  },
  {
   "cell_type": "code",
   "execution_count": 35,
   "metadata": {
    "collapsed": true
   },
   "outputs": [],
   "source": [
    "# Pkg.add(\"Calculus\")"
   ]
  },
  {
   "cell_type": "markdown",
   "metadata": {
    "slideshow": {
     "slide_type": "subslide"
    }
   },
   "source": [
    "### Calculus.jl Basics"
   ]
  },
  {
   "cell_type": "code",
   "execution_count": 4,
   "metadata": {},
   "outputs": [],
   "source": [
    "using Calculus"
   ]
  },
  {
   "cell_type": "markdown",
   "metadata": {
    "slideshow": {
     "slide_type": "fragment"
    }
   },
   "source": [
    "#### Symbolic derivatives"
   ]
  },
  {
   "cell_type": "code",
   "execution_count": 5,
   "metadata": {},
   "outputs": [
    {
     "data": {
      "text/plain": [
       ":(cos(x))"
      ]
     },
     "execution_count": 5,
     "metadata": {},
     "output_type": "execute_result"
    }
   ],
   "source": [
    "differentiate(:(sin(x)), :x)"
   ]
  },
  {
   "cell_type": "code",
   "execution_count": 38,
   "metadata": {},
   "outputs": [
    {
     "data": {
      "text/plain": [
       ":(cos(y) * -(sin(sin(y))))"
      ]
     },
     "execution_count": 38,
     "metadata": {},
     "output_type": "execute_result"
    }
   ],
   "source": [
    "differentiate(:(cos(sin(y))), :y)"
   ]
  },
  {
   "cell_type": "code",
   "execution_count": 6,
   "metadata": {},
   "outputs": [
    {
     "data": {
      "text/plain": [
       ":(((1 - γ) * c ^ ((1 - γ) - 1)) / (1 - γ))"
      ]
     },
     "execution_count": 6,
     "metadata": {},
     "output_type": "execute_result"
    }
   ],
   "source": [
    "differentiate(:(c^(1-γ)/(1-γ)), :c)"
   ]
  },
  {
   "cell_type": "markdown",
   "metadata": {
    "slideshow": {
     "slide_type": "fragment"
    }
   },
   "source": [
    "#### Finite difference"
   ]
  },
  {
   "cell_type": "code",
   "execution_count": 40,
   "metadata": {},
   "outputs": [
    {
     "data": {
      "text/plain": [
       "-5.036193684304635e-12"
      ]
     },
     "execution_count": 40,
     "metadata": {},
     "output_type": "execute_result"
    }
   ],
   "source": [
    "derivative(sin, 1.0) - cos(1.0)"
   ]
  },
  {
   "cell_type": "code",
   "execution_count": 41,
   "metadata": {},
   "outputs": [
    {
     "data": {
      "text/plain": [
       "-6.647716624952338e-7"
      ]
     },
     "execution_count": 41,
     "metadata": {},
     "output_type": "execute_result"
    }
   ],
   "source": [
    "second_derivative(sin, 1.0) + sin(1.0)"
   ]
  },
  {
   "cell_type": "code",
   "execution_count": 7,
   "metadata": {},
   "outputs": [
    {
     "data": {
      "text/plain": [
       "2-element Array{Float64,1}:\n",
       "  2.71828\n",
       " -1.0    "
      ]
     },
     "execution_count": 7,
     "metadata": {},
     "output_type": "execute_result"
    }
   ],
   "source": [
    "Calculus.gradient(x -> exp(x[1]) + sin(x[2]) / x[1], [1.0, π])"
   ]
  },
  {
   "cell_type": "code",
   "execution_count": 43,
   "metadata": {},
   "outputs": [
    {
     "data": {
      "text/plain": [
       "2×2 Array{Float64,2}:\n",
       " 2.71828  1.0       \n",
       " 1.0      1.71123e-7"
      ]
     },
     "execution_count": 43,
     "metadata": {},
     "output_type": "execute_result"
    }
   ],
   "source": [
    "Calculus.hessian(x -> exp(x[1]) + sin(x[2]) / x[1], [1.0, π])"
   ]
  },
  {
   "cell_type": "code",
   "execution_count": 44,
   "metadata": {},
   "outputs": [
    {
     "data": {
      "text/plain": [
       "2×2 Array{Float64,2}:\n",
       "  2.71828       0.0\n",
       " -1.22465e-16  -1.0"
      ]
     },
     "execution_count": 44,
     "metadata": {},
     "output_type": "execute_result"
    }
   ],
   "source": [
    "Calculus.jacobian(x -> [exp(x[1]),  sin(x[2]) / x[1]], [1.0, π], :central)"
   ]
  },
  {
   "cell_type": "markdown",
   "metadata": {
    "slideshow": {
     "slide_type": "slide"
    }
   },
   "source": [
    "## SymEngine.jl\n",
    "\n",
    "- Next generation C++ backend for sympy computer algebra system\n",
    "- A very fast alternative to Calculus.jl for symbolic differentiation\n",
    "\n",
    "[Jula package](https://github.com/symengine/SymEngine.jl) and [\"Documentation\"](https://github.com/symengine/symengine/blob/master/symengine/cwrapper.h)"
   ]
  },
  {
   "cell_type": "code",
   "execution_count": 45,
   "metadata": {
    "collapsed": true
   },
   "outputs": [],
   "source": [
    "# Pkg.add(\"SymEngine\")"
   ]
  },
  {
   "cell_type": "markdown",
   "metadata": {
    "slideshow": {
     "slide_type": "subslide"
    }
   },
   "source": [
    "### SymEngine.jl Basics"
   ]
  },
  {
   "cell_type": "code",
   "execution_count": 46,
   "metadata": {},
   "outputs": [],
   "source": [
    "using SymEngine"
   ]
  },
  {
   "cell_type": "code",
   "execution_count": 47,
   "metadata": {},
   "outputs": [
    {
     "data": {
      "text/plain": [
       "cos(x)"
      ]
     },
     "execution_count": 47,
     "metadata": {},
     "output_type": "execute_result"
    }
   ],
   "source": [
    "# needs first argument to be of type SymEngine.Basic\n",
    "diff(Basic(:(sin(x))), :x)"
   ]
  },
  {
   "cell_type": "code",
   "execution_count": 48,
   "metadata": {},
   "outputs": [
    {
     "data": {
      "text/plain": [
       "-cos(y)*sin(sin(y))"
      ]
     },
     "execution_count": 48,
     "metadata": {},
     "output_type": "execute_result"
    }
   ],
   "source": [
    "diff(Basic(\"cos(sin(y))\"), :y)"
   ]
  },
  {
   "cell_type": "code",
   "execution_count": 49,
   "metadata": {},
   "outputs": [
    {
     "data": {
      "text/plain": [
       "c^(-γ)"
      ]
     },
     "execution_count": 49,
     "metadata": {},
     "output_type": "execute_result"
    }
   ],
   "source": [
    "diff(Basic(\"c^(1-γ)/(1-γ)\"), :c)"
   ]
  },
  {
   "cell_type": "markdown",
   "metadata": {
    "slideshow": {
     "slide_type": "subslide"
    }
   },
   "source": [
    "Let's see how fast SymEngine is compared to Calculus.jl\n",
    "\n",
    "To do this we will load the BenchmarkTools.jl package that goes to great lengths to produce statistically accurate and robust timing estimates at the sub-microsecond level"
   ]
  },
  {
   "cell_type": "code",
   "execution_count": 50,
   "metadata": {},
   "outputs": [],
   "source": [
    "# Pkg.add(\"BenchmarkTools\")\n",
    "using BenchmarkTools"
   ]
  },
  {
   "cell_type": "code",
   "execution_count": 51,
   "metadata": {},
   "outputs": [
    {
     "data": {
      "text/plain": [
       "BenchmarkTools.Trial: \n",
       "  memory estimate:  66.66 KiB\n",
       "  allocs estimate:  1109\n",
       "  --------------\n",
       "  minimum time:     827.381 μs (0.00% GC)\n",
       "  median time:      877.233 μs (0.00% GC)\n",
       "  mean time:        1.218 ms (1.21% GC)\n",
       "  maximum time:     11.096 ms (88.43% GC)\n",
       "  --------------\n",
       "  samples:          4075\n",
       "  evals/sample:     1"
      ]
     },
     "execution_count": 51,
     "metadata": {},
     "output_type": "execute_result"
    }
   ],
   "source": [
    "@benchmark Calculus.differentiate(:((y + r*a - ap)^(1-γ)/(1-γ)), :ap)"
   ]
  },
  {
   "cell_type": "code",
   "execution_count": 52,
   "metadata": {},
   "outputs": [
    {
     "data": {
      "text/plain": [
       "BenchmarkTools.Trial: \n",
       "  memory estimate:  840 bytes\n",
       "  allocs estimate:  42\n",
       "  --------------\n",
       "  minimum time:     56.437 μs (0.00% GC)\n",
       "  median time:      58.088 μs (0.00% GC)\n",
       "  mean time:        59.610 μs (0.00% GC)\n",
       "  maximum time:     374.913 μs (0.00% GC)\n",
       "  --------------\n",
       "  samples:          10000\n",
       "  evals/sample:     1"
      ]
     },
     "execution_count": 52,
     "metadata": {},
     "output_type": "execute_result"
    }
   ],
   "source": [
    "@benchmark diff(Basic(\"(y + r*a - ap)^(1-γ)/(1-γ)\"), :ap)"
   ]
  },
  {
   "cell_type": "markdown",
   "metadata": {
    "slideshow": {
     "slide_type": "slide"
    }
   },
   "source": [
    "## Data handling\n",
    "\n",
    "We won't cover these packages in detail, but the following are some of the most commonly used data-related packages available today. \n",
    "\n",
    "- [DataFrames.jl](https://github.com/JuliaStats/DataFrames.jl): Provides a DataFrame type for handling columnar data. Similar to data frames in Python Pandas or R.\n",
    "- [CSV.jl](https://github.com/JuliaData/CSV.jl): reading and writing of delimited data files\n",
    "- [DataStreams.jl](https://github.com/JuliaData/DataStreams.jl): provide an interface for streaming data from a source to a sink\n",
    "- [Query.jl](https://github.com/davidanthoff/Query.jl): filter, project, join, group any iterable data source"
   ]
  },
  {
   "cell_type": "code",
   "execution_count": null,
   "metadata": {
    "collapsed": true
   },
   "outputs": [],
   "source": []
  }
 ],
 "metadata": {
  "anaconda-cloud": {},
  "kernelspec": {
   "display_name": "Julia 0.6.1",
   "language": "julia",
   "name": "julia-0.6"
  },
  "language_info": {
   "file_extension": ".jl",
   "mimetype": "application/julia",
   "name": "julia",
   "version": "0.6.1"
  },
  "livereveal": {
   "scroll": true,
   "start_slideshow_at": "selected",
   "theme": "white",
   "transition": "fade"
  }
 },
 "nbformat": 4,
 "nbformat_minor": 2
}
