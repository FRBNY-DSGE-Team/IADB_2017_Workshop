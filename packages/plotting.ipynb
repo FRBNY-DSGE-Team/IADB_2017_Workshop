{
 "cells": [
  {
   "cell_type": "markdown",
   "metadata": {},
   "source": [
    "# Plotting in Julia\n",
    "\n",
    "Based on a notebook by Chase Coleman and Spencer Lyon and on material from QuantEcon\n",
    "\n",
    "18 December 2017"
   ]
  },
  {
   "cell_type": "markdown",
   "metadata": {
    "slideshow": {
     "slide_type": "slide"
    }
   },
   "source": [
    "Overall message about plotting in Julia:\n",
    "- Sort of a mixed bag\n",
    "- Upside: many options, lots of flexibility\n",
    "- Downside: many options, lots of flexibility"
   ]
  },
  {
   "cell_type": "markdown",
   "metadata": {
    "slideshow": {
     "slide_type": "fragment"
    }
   },
   "source": [
    "- Will introduce two options: \n",
    "    1. [PyPlot.jl](https://github.com/JuliaPy/PyPlot.jl): Julia interface to Python's [`matplotlib.pyplot`](http://matplotlib.org)\n",
    "    2. [Plots.jl](https://juliaplots.github.io): API that leverages other packages to do plotting\n",
    "- Alternatives\n",
    "    - [Gadfly.jl](http://gadflyjl.org): Grammar of Graphics style plotting (similar to `ggplot2` from R)\n",
    "    - [PlotlyJS.jl](http://spencerlyon.com/PlotlyJS.jl/): Interface to [plotly.js](https://plot.ly/javascript/)\n",
    "    - [GLPlot.jl](https://github.com/SimonDanisch/GLPlot.jl): high performance GPU powered plotting\n",
    "    - [GR.jl](https://github.com/jheinen/GR.jl): Julia interface to GR framework\n",
    "    - ... others"
   ]
  },
  {
   "cell_type": "markdown",
   "metadata": {
    "slideshow": {
     "slide_type": "slide"
    }
   },
   "source": [
    "## PyPlot.jl\n",
    "\n",
    "- Julia interface to `matplotlib.pyplot`\n",
    "- Very mature, robust, full-featured\n",
    "- Main downside: sometimes feels a bit \"clunky\" or \"unnatural\" to use Python APIs from Julia"
   ]
  },
  {
   "cell_type": "code",
   "execution_count": null,
   "metadata": {
    "slideshow": {
     "slide_type": "-"
    }
   },
   "outputs": [],
   "source": [
    "# Pkg.add(\"PyPlot\")"
   ]
  },
  {
   "cell_type": "markdown",
   "metadata": {
    "slideshow": {
     "slide_type": "subslide"
    }
   },
   "source": [
    "### Basic PyPlot"
   ]
  },
  {
   "cell_type": "code",
   "execution_count": null,
   "metadata": {
    "slideshow": {
     "slide_type": "-"
    }
   },
   "outputs": [],
   "source": [
    "using PyPlot\n",
    "\n",
    "x = linspace(0, 2π, 30)\n",
    "plot(x, sin.(x));  # semi-colon supresses matplotlib text"
   ]
  },
  {
   "cell_type": "code",
   "execution_count": null,
   "metadata": {
    "slideshow": {
     "slide_type": "fragment"
    }
   },
   "outputs": [],
   "source": [
    "### using object API\n",
    "# One row, two columns of subplots\n",
    "fig, ax = subplots(1, 2)\n",
    "\n",
    "# 1d array of matplotlib axes\n",
    "@show typeof(ax)\n",
    "\n",
    "# access methods of ax object using `[:name]` instead of `.name`\n",
    "\n",
    "# plot on both axes\n",
    "ax[1][:plot](x, sin.(x), label=\"sin\")\n",
    "ax[2][:plot](x, cos.(x), label=\"cos\")\n",
    "\n",
    "# set axes properties\n",
    "ax[1][:set_xlabel](\"this is x\")\n",
    "ax[2][:set_title](\"cos(x)\")\n",
    "\n",
    "# set figure property\n",
    "fig[:suptitle](\"Trig functions\");"
   ]
  },
  {
   "cell_type": "code",
   "execution_count": null,
   "metadata": {
    "slideshow": {
     "slide_type": "fragment"
    }
   },
   "outputs": [],
   "source": [
    "# fix spacing of axes labels\n",
    "fig[:tight_layout]()\n",
    "\n",
    "# display fig again by having it as last item in notebook cell\n",
    "# (notice improved spacing)\n",
    "fig "
   ]
  },
  {
   "cell_type": "markdown",
   "metadata": {
    "slideshow": {
     "slide_type": "subslide"
    }
   },
   "source": [
    "### More than you need\n",
    "\n",
    "- There are many matplotlib tutorials and examples online\n",
    "- Any that use `matplotlib.pyplot` work with PyPlot.jl -- you just need to change `.stuff` to `[:stuff]`\n",
    "- The ultimate reference for what is possible is the matplotlib documentation:\n",
    "    - [API documentation](http://matplotlib.org/2.0.2/api/pyplot_summary.html) (Documentation for each function)\n",
    "    - [Examples](http://matplotlib.org/2.0.2/examples/index.html)\n",
    "    - [Gallery](http://matplotlib.org/2.0.2/gallery.html)\n",
    "- Below are some examples (taken from [quantecon plotting lecture](https://lectures.quantecon.org/jl/julia_plots.html#pyplot))"
   ]
  },
  {
   "cell_type": "code",
   "execution_count": null,
   "metadata": {},
   "outputs": [],
   "source": [
    "using Distributions\n",
    "\n",
    "u = Uniform()\n",
    "\n",
    "fig, ax = subplots()\n",
    "x = linspace(-4, 4, 150)\n",
    "for i in 1:3\n",
    "    # == Compute normal pdf from randomly generated mean and std == #\n",
    "    m, s = rand(u) * 2 - 1, rand(u) + 1\n",
    "    d = Normal(m, s)\n",
    "    y = pdf(d, x)\n",
    "    # == Plot current pdf == #\n",
    "    ax[:plot](x, y, linewidth=2, alpha=0.6, label=\"draw $i\")\n",
    "end\n",
    "ax[:legend]();"
   ]
  },
  {
   "cell_type": "code",
   "execution_count": null,
   "metadata": {
    "slideshow": {
     "slide_type": "fragment"
    }
   },
   "outputs": [],
   "source": [
    "u = Uniform()\n",
    "num_rows, num_cols = 2, 3\n",
    "fig, axes = subplots(num_rows, num_cols, figsize=(16,6))\n",
    "subplot_num = 0\n",
    "\n",
    "for i in 1:num_rows\n",
    "    for j in 1:num_cols\n",
    "        ax = axes[i, j]\n",
    "        subplot_num += 1\n",
    "        # == Generate a normal sample with random mean and std == #\n",
    "        m, s = rand(u) * 2 - 1, rand(u) + 1\n",
    "        d = Normal(m, s)\n",
    "        x = rand(d, 100)\n",
    "        # == Histogram the sample == #\n",
    "        ax[:hist](x, alpha=0.6, bins=20)\n",
    "        ax[:set_title](\"histogram $subplot_num\")\n",
    "        ax[:set_xticks]([-4, 0, 4])\n",
    "        ax[:set_yticks]([])\n",
    "    end\n",
    "end"
   ]
  },
  {
   "cell_type": "code",
   "execution_count": null,
   "metadata": {
    "slideshow": {
     "slide_type": "fragment"
    }
   },
   "outputs": [],
   "source": [
    "using QuantEcon: meshgrid\n",
    "\n",
    "n = 50\n",
    "x = linspace(-3, 3, n)\n",
    "y = x\n",
    "\n",
    "z = Array{Float64}(n, n)\n",
    "f(x, y) = cos(x^2 + y^2) / (1 + x^2 + y^2)\n",
    "for i in 1:n\n",
    "    for j in 1:n\n",
    "        z[j, i] = f(x[i], y[j])\n",
    "    end\n",
    "end\n",
    "\n",
    "fig = figure(figsize=(8,6))\n",
    "ax = fig[:gca](projection=\"3d\")\n",
    "ax[:set_zlim](-0.5, 1.0)\n",
    "xgrid, ygrid = meshgrid(x, y)\n",
    "ax[:plot_surface](\n",
    "    xgrid, ygrid, z, rstride=2, cstride=2,\n",
    "    cmap=ColorMap(\"viridis\"), alpha=0.7, linewidth=0.25\n",
    ");"
   ]
  },
  {
   "cell_type": "code",
   "execution_count": null,
   "metadata": {
    "slideshow": {
     "slide_type": "fragment"
    }
   },
   "outputs": [],
   "source": [
    "# save the previous figure to pdf and eps\n",
    "fig[:savefig](\"3dplot.pdf\")\n",
    "fig[:savefig](\"3dplot.eps\")"
   ]
  },
  {
   "cell_type": "markdown",
   "metadata": {
    "slideshow": {
     "slide_type": "slide"
    }
   },
   "source": [
    "## Plots.jl\n",
    "\n",
    "- A unified API for a wide variety of plotting packages (e.g. PlotlyJS, PyPlot, GR)\n",
    "- Pros:\n",
    "    - Only one set of syntax to learn\n",
    "    - Easy to use \n",
    "    - Comprehensive set of backends\n",
    "- Cons:\n",
    "    - No guarantee that all features of a given backend will work"
   ]
  },
  {
   "cell_type": "code",
   "execution_count": null,
   "metadata": {},
   "outputs": [],
   "source": [
    "# Pkg.add(\"Plots\"); Pkg.add(\"GR\")"
   ]
  },
  {
   "cell_type": "markdown",
   "metadata": {
    "slideshow": {
     "slide_type": "subslide"
    }
   },
   "source": [
    "### Plots.jl basics\n",
    "\n",
    "The approach of Plots.jl is to\n",
    "\n",
    "    1. provide a “frontend” plotting language\n",
    "    2. render the plots by using one of several existing plotting libraries as “backends”\n",
    "\n",
    "Plots.jl plotting commands are translated internally to commands understood by a selected plotting library. These underlying libraries, or backends, can be swapped easily. Each backend has a different look and a different set of capabilities.\n",
    "\n",
    "For example, PyPlot, PlotlyJS, and GR ara available backends for Plots.jl. For this section, we will mostly focus on GR.\n",
    "\n",
    "For complete documentation of Plots.jl check [here](http://docs.juliaplots.org/latest/)."
   ]
  },
  {
   "cell_type": "markdown",
   "metadata": {},
   "source": [
    "**NOTE: restart notebook kernel here!!!**\n",
    "\n",
    "Both Plots and PyPlot define functions with common names (e.g. `plot`, `scatter`, etc.) \n",
    "\n",
    "So that we can use Plots' without having to refer to them as `Plots.function_name` we will restart the notebook kernel (the Julia process backing the notebook)\n",
    "\n",
    "To do this we go to the `Kernel` menu above and press `Restart`"
   ]
  },
  {
   "cell_type": "code",
   "execution_count": null,
   "metadata": {
    "slideshow": {
     "slide_type": "subslide"
    }
   },
   "outputs": [],
   "source": [
    "using Plots\n",
    "gr()"
   ]
  },
  {
   "cell_type": "code",
   "execution_count": null,
   "metadata": {
    "slideshow": {
     "slide_type": "fragment"
    }
   },
   "outputs": [],
   "source": [
    "# a simple plot\n",
    "x = linspace(0, 2π, 30)\n",
    "plot(x, sin.(x), title=\"sin\")"
   ]
  },
  {
   "cell_type": "code",
   "execution_count": null,
   "metadata": {
    "slideshow": {
     "slide_type": "fragment"
    }
   },
   "outputs": [],
   "source": [
    "# We can also arrange multiple plots in a grid\n",
    "using Distributions\n",
    "draws = Array{Vector}(4)\n",
    "titles = Array{String}(1, 4)\n",
    "for i = 1:4\n",
    "    m, s = 2*(rand() - 0.5), rand() + 1\n",
    "    d = Normal(m, s)\n",
    "    draws[i] = rand(d, 100)\n",
    "    t = \"mu = $(round(m, 2)), sigma = $(round(s, 2))\"\n",
    "    titles[i] = t\n",
    "end\n",
    "\n",
    "Plots.histogram(draws,\n",
    "            layout=4,\n",
    "            title=titles,\n",
    "            legend=:none,\n",
    "            titlefont=Plots.font(9),\n",
    "            bins=20)\n"
   ]
  },
  {
   "cell_type": "markdown",
   "metadata": {
    "slideshow": {
     "slide_type": "subslide"
    }
   },
   "source": [
    "### More than you need\n",
    "\n",
    "Check the Plots.jl documentation for more information about how to manipulate and create plots to your liking. To give a taste of what other types of plots can be made using Plots.jl, see below:"
   ]
  },
  {
   "cell_type": "code",
   "execution_count": null,
   "metadata": {
    "slideshow": {
     "slide_type": "fragment"
    }
   },
   "outputs": [],
   "source": [
    "# a nice 3d plot\n",
    "n = 100\n",
    "ts = linspace(0,8π,n)\n",
    "x = ts .* map(cos,ts)\n",
    "y = (0.1ts) .* map(sin,ts)\n",
    "z = 1:n\n",
    "plot(x,y,z,zcolor=reverse(z),m=(10,0.8,:blues,stroke(0)),leg=false,cbar=true,w=5)\n",
    "plot!(zeros(n),zeros(n),1:n,w=10)"
   ]
  },
  {
   "cell_type": "code",
   "execution_count": null,
   "metadata": {},
   "outputs": [],
   "source": [
    "# a contour plot\n",
    "x = 1:0.5:20\n",
    "y = 1:0.5:10\n",
    "f(x,y) = begin\n",
    "        (3x + y ^ 2) * abs(sin(x) + cos(y))\n",
    "    end\n",
    "X = repmat(x',length(y),1)\n",
    "Y = repmat(y,1,length(x))\n",
    "Z = map(f,X,Y)\n",
    "p1 = contour(x,y,f,fill=true)\n",
    "p2 = contour(x,y,Z)\n",
    "plot(p1,p2)"
   ]
  }
 ],
 "metadata": {
  "anaconda-cloud": {},
  "kernelspec": {
   "display_name": "Julia 0.6.1",
   "language": "julia",
   "name": "julia-0.6"
  },
  "language_info": {
   "file_extension": ".jl",
   "mimetype": "application/julia",
   "name": "julia",
   "version": "0.6.1"
  },
  "livereveal": {
   "scroll": true,
   "start_slideshow_at": "selected",
   "theme": "white",
   "transition": "fade"
  }
 },
 "nbformat": 4,
 "nbformat_minor": 2
}
